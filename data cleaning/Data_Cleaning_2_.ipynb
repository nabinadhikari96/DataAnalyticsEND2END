{
  "cells": [
    {
      "cell_type": "markdown",
      "metadata": {
        "id": "HzOVMzatb0JR"
      },
      "source": [
        "### Data Cleaning Practical Examples\n",
        "#### Working With Columns Names\n",
        "\n",
        "+ Get Random Dataset here https://www.generatedata.com/\n",
        "\n",
        "#### Outline\n",
        "    + How to check columns\n",
        "    + How to rename columns\n",
        "    + How to put underscore in all columns\n",
        "    + How to replace a character or empty space in column names\n",
        "    + How to uppercase/lowercase columns\n",
        "    + How to select all columns except one\n",
        "    + How to select columns of a particular order or phrase(df.filter)\n",
        "    + How to select a group of column name"
      ]
    },
    {
      "cell_type": "code",
      "execution_count": 2,
      "metadata": {
        "id": "dtyoNWdwb0Jm"
      },
      "outputs": [],
      "source": [
        "# Load Dataset\n",
        "import pandas as pd"
      ]
    },
    {
      "cell_type": "code",
      "execution_count": 3,
      "metadata": {
        "id": "iAF-LK3Xb0Jz"
      },
      "outputs": [],
      "source": [
        "# Load Dataset\n",
        "df = pd.read_csv(\"/content/raw_dataset.csv\")"
      ]
    },
    {
      "cell_type": "code",
      "execution_count": 4,
      "metadata": {
        "colab": {
          "base_uri": "https://localhost:8080/",
          "height": 328
        },
        "id": "28V2YqsTb0J5",
        "outputId": "2cd7e0d9-7958-4980-da3e-911ef1ea99db"
      },
      "outputs": [
        {
          "output_type": "execute_result",
          "data": {
            "text/plain": [
              "  First Name Last name         Age  SALARY            STREET Address1  \\\n",
              "0       Joel   Padilla  10/28/2019  $92.32           431-6530 Eu, Rd.   \n",
              "1      Fritz     Tyler  09/27/2019  $83.91        Ap #377-2267 Ac Av.   \n",
              "2       Wing    Phelps  02/18/2019  $17.15  Ap #545-5786 Pulvinar Ave   \n",
              "3       Ryan      Ross  05/21/2019  $45.97           634-7858 Id Road   \n",
              "4      Drake       Day  01/09/2020  $84.38       999-8221 Tempor, St.   \n",
              "\n",
              "                STREET Address2                 STREET Address3  \\\n",
              "0            364-2264 Augue Rd.  P.O. Box 864, 3882 Orci Street   \n",
              "1              979-2228 Vel Ave                     9865 Eu Av.   \n",
              "2  Ap #973-5781 Sagittis Avenue                     9959 Ut St.   \n",
              "3        907-8824 Fringilla Ave                 318-5271 In Ave   \n",
              "4          297-6939 Turpis. Ave  P.O. Box 638, 6932 Laoreet Rd.   \n",
              "\n",
              "                                  email  \n",
              "0                           eu@nibh.com  \n",
              "1  est.ac.mattis@malesuadafringilla.net  \n",
              "2                     dolor@cubilia.net  \n",
              "3     interdum.libero.dui@vitaeerat.com  \n",
              "4   nulla.Integer.vulputate@liberoat.ca  "
            ],
            "text/html": [
              "\n",
              "  <div id=\"df-d6d32ceb-0ce1-45b6-b661-90e3ef392a58\" class=\"colab-df-container\">\n",
              "    <div>\n",
              "<style scoped>\n",
              "    .dataframe tbody tr th:only-of-type {\n",
              "        vertical-align: middle;\n",
              "    }\n",
              "\n",
              "    .dataframe tbody tr th {\n",
              "        vertical-align: top;\n",
              "    }\n",
              "\n",
              "    .dataframe thead th {\n",
              "        text-align: right;\n",
              "    }\n",
              "</style>\n",
              "<table border=\"1\" class=\"dataframe\">\n",
              "  <thead>\n",
              "    <tr style=\"text-align: right;\">\n",
              "      <th></th>\n",
              "      <th>First Name</th>\n",
              "      <th>Last name</th>\n",
              "      <th>Age</th>\n",
              "      <th>SALARY</th>\n",
              "      <th>STREET Address1</th>\n",
              "      <th>STREET Address2</th>\n",
              "      <th>STREET Address3</th>\n",
              "      <th>email</th>\n",
              "    </tr>\n",
              "  </thead>\n",
              "  <tbody>\n",
              "    <tr>\n",
              "      <th>0</th>\n",
              "      <td>Joel</td>\n",
              "      <td>Padilla</td>\n",
              "      <td>10/28/2019</td>\n",
              "      <td>$92.32</td>\n",
              "      <td>431-6530 Eu, Rd.</td>\n",
              "      <td>364-2264 Augue Rd.</td>\n",
              "      <td>P.O. Box 864, 3882 Orci Street</td>\n",
              "      <td>eu@nibh.com</td>\n",
              "    </tr>\n",
              "    <tr>\n",
              "      <th>1</th>\n",
              "      <td>Fritz</td>\n",
              "      <td>Tyler</td>\n",
              "      <td>09/27/2019</td>\n",
              "      <td>$83.91</td>\n",
              "      <td>Ap #377-2267 Ac Av.</td>\n",
              "      <td>979-2228 Vel Ave</td>\n",
              "      <td>9865 Eu Av.</td>\n",
              "      <td>est.ac.mattis@malesuadafringilla.net</td>\n",
              "    </tr>\n",
              "    <tr>\n",
              "      <th>2</th>\n",
              "      <td>Wing</td>\n",
              "      <td>Phelps</td>\n",
              "      <td>02/18/2019</td>\n",
              "      <td>$17.15</td>\n",
              "      <td>Ap #545-5786 Pulvinar Ave</td>\n",
              "      <td>Ap #973-5781 Sagittis Avenue</td>\n",
              "      <td>9959 Ut St.</td>\n",
              "      <td>dolor@cubilia.net</td>\n",
              "    </tr>\n",
              "    <tr>\n",
              "      <th>3</th>\n",
              "      <td>Ryan</td>\n",
              "      <td>Ross</td>\n",
              "      <td>05/21/2019</td>\n",
              "      <td>$45.97</td>\n",
              "      <td>634-7858 Id Road</td>\n",
              "      <td>907-8824 Fringilla Ave</td>\n",
              "      <td>318-5271 In Ave</td>\n",
              "      <td>interdum.libero.dui@vitaeerat.com</td>\n",
              "    </tr>\n",
              "    <tr>\n",
              "      <th>4</th>\n",
              "      <td>Drake</td>\n",
              "      <td>Day</td>\n",
              "      <td>01/09/2020</td>\n",
              "      <td>$84.38</td>\n",
              "      <td>999-8221 Tempor, St.</td>\n",
              "      <td>297-6939 Turpis. Ave</td>\n",
              "      <td>P.O. Box 638, 6932 Laoreet Rd.</td>\n",
              "      <td>nulla.Integer.vulputate@liberoat.ca</td>\n",
              "    </tr>\n",
              "  </tbody>\n",
              "</table>\n",
              "</div>\n",
              "    <div class=\"colab-df-buttons\">\n",
              "\n",
              "  <div class=\"colab-df-container\">\n",
              "    <button class=\"colab-df-convert\" onclick=\"convertToInteractive('df-d6d32ceb-0ce1-45b6-b661-90e3ef392a58')\"\n",
              "            title=\"Convert this dataframe to an interactive table.\"\n",
              "            style=\"display:none;\">\n",
              "\n",
              "  <svg xmlns=\"http://www.w3.org/2000/svg\" height=\"24px\" viewBox=\"0 -960 960 960\">\n",
              "    <path d=\"M120-120v-720h720v720H120Zm60-500h600v-160H180v160Zm220 220h160v-160H400v160Zm0 220h160v-160H400v160ZM180-400h160v-160H180v160Zm440 0h160v-160H620v160ZM180-180h160v-160H180v160Zm440 0h160v-160H620v160Z\"/>\n",
              "  </svg>\n",
              "    </button>\n",
              "\n",
              "  <style>\n",
              "    .colab-df-container {\n",
              "      display:flex;\n",
              "      gap: 12px;\n",
              "    }\n",
              "\n",
              "    .colab-df-convert {\n",
              "      background-color: #E8F0FE;\n",
              "      border: none;\n",
              "      border-radius: 50%;\n",
              "      cursor: pointer;\n",
              "      display: none;\n",
              "      fill: #1967D2;\n",
              "      height: 32px;\n",
              "      padding: 0 0 0 0;\n",
              "      width: 32px;\n",
              "    }\n",
              "\n",
              "    .colab-df-convert:hover {\n",
              "      background-color: #E2EBFA;\n",
              "      box-shadow: 0px 1px 2px rgba(60, 64, 67, 0.3), 0px 1px 3px 1px rgba(60, 64, 67, 0.15);\n",
              "      fill: #174EA6;\n",
              "    }\n",
              "\n",
              "    .colab-df-buttons div {\n",
              "      margin-bottom: 4px;\n",
              "    }\n",
              "\n",
              "    [theme=dark] .colab-df-convert {\n",
              "      background-color: #3B4455;\n",
              "      fill: #D2E3FC;\n",
              "    }\n",
              "\n",
              "    [theme=dark] .colab-df-convert:hover {\n",
              "      background-color: #434B5C;\n",
              "      box-shadow: 0px 1px 3px 1px rgba(0, 0, 0, 0.15);\n",
              "      filter: drop-shadow(0px 1px 2px rgba(0, 0, 0, 0.3));\n",
              "      fill: #FFFFFF;\n",
              "    }\n",
              "  </style>\n",
              "\n",
              "    <script>\n",
              "      const buttonEl =\n",
              "        document.querySelector('#df-d6d32ceb-0ce1-45b6-b661-90e3ef392a58 button.colab-df-convert');\n",
              "      buttonEl.style.display =\n",
              "        google.colab.kernel.accessAllowed ? 'block' : 'none';\n",
              "\n",
              "      async function convertToInteractive(key) {\n",
              "        const element = document.querySelector('#df-d6d32ceb-0ce1-45b6-b661-90e3ef392a58');\n",
              "        const dataTable =\n",
              "          await google.colab.kernel.invokeFunction('convertToInteractive',\n",
              "                                                    [key], {});\n",
              "        if (!dataTable) return;\n",
              "\n",
              "        const docLinkHtml = 'Like what you see? Visit the ' +\n",
              "          '<a target=\"_blank\" href=https://colab.research.google.com/notebooks/data_table.ipynb>data table notebook</a>'\n",
              "          + ' to learn more about interactive tables.';\n",
              "        element.innerHTML = '';\n",
              "        dataTable['output_type'] = 'display_data';\n",
              "        await google.colab.output.renderOutput(dataTable, element);\n",
              "        const docLink = document.createElement('div');\n",
              "        docLink.innerHTML = docLinkHtml;\n",
              "        element.appendChild(docLink);\n",
              "      }\n",
              "    </script>\n",
              "  </div>\n",
              "\n",
              "\n",
              "<div id=\"df-c6d5ad00-d999-4172-9a00-5cd9e8930267\">\n",
              "  <button class=\"colab-df-quickchart\" onclick=\"quickchart('df-c6d5ad00-d999-4172-9a00-5cd9e8930267')\"\n",
              "            title=\"Suggest charts.\"\n",
              "            style=\"display:none;\">\n",
              "\n",
              "<svg xmlns=\"http://www.w3.org/2000/svg\" height=\"24px\"viewBox=\"0 0 24 24\"\n",
              "     width=\"24px\">\n",
              "    <g>\n",
              "        <path d=\"M19 3H5c-1.1 0-2 .9-2 2v14c0 1.1.9 2 2 2h14c1.1 0 2-.9 2-2V5c0-1.1-.9-2-2-2zM9 17H7v-7h2v7zm4 0h-2V7h2v10zm4 0h-2v-4h2v4z\"/>\n",
              "    </g>\n",
              "</svg>\n",
              "  </button>\n",
              "\n",
              "<style>\n",
              "  .colab-df-quickchart {\n",
              "      --bg-color: #E8F0FE;\n",
              "      --fill-color: #1967D2;\n",
              "      --hover-bg-color: #E2EBFA;\n",
              "      --hover-fill-color: #174EA6;\n",
              "      --disabled-fill-color: #AAA;\n",
              "      --disabled-bg-color: #DDD;\n",
              "  }\n",
              "\n",
              "  [theme=dark] .colab-df-quickchart {\n",
              "      --bg-color: #3B4455;\n",
              "      --fill-color: #D2E3FC;\n",
              "      --hover-bg-color: #434B5C;\n",
              "      --hover-fill-color: #FFFFFF;\n",
              "      --disabled-bg-color: #3B4455;\n",
              "      --disabled-fill-color: #666;\n",
              "  }\n",
              "\n",
              "  .colab-df-quickchart {\n",
              "    background-color: var(--bg-color);\n",
              "    border: none;\n",
              "    border-radius: 50%;\n",
              "    cursor: pointer;\n",
              "    display: none;\n",
              "    fill: var(--fill-color);\n",
              "    height: 32px;\n",
              "    padding: 0;\n",
              "    width: 32px;\n",
              "  }\n",
              "\n",
              "  .colab-df-quickchart:hover {\n",
              "    background-color: var(--hover-bg-color);\n",
              "    box-shadow: 0 1px 2px rgba(60, 64, 67, 0.3), 0 1px 3px 1px rgba(60, 64, 67, 0.15);\n",
              "    fill: var(--button-hover-fill-color);\n",
              "  }\n",
              "\n",
              "  .colab-df-quickchart-complete:disabled,\n",
              "  .colab-df-quickchart-complete:disabled:hover {\n",
              "    background-color: var(--disabled-bg-color);\n",
              "    fill: var(--disabled-fill-color);\n",
              "    box-shadow: none;\n",
              "  }\n",
              "\n",
              "  .colab-df-spinner {\n",
              "    border: 2px solid var(--fill-color);\n",
              "    border-color: transparent;\n",
              "    border-bottom-color: var(--fill-color);\n",
              "    animation:\n",
              "      spin 1s steps(1) infinite;\n",
              "  }\n",
              "\n",
              "  @keyframes spin {\n",
              "    0% {\n",
              "      border-color: transparent;\n",
              "      border-bottom-color: var(--fill-color);\n",
              "      border-left-color: var(--fill-color);\n",
              "    }\n",
              "    20% {\n",
              "      border-color: transparent;\n",
              "      border-left-color: var(--fill-color);\n",
              "      border-top-color: var(--fill-color);\n",
              "    }\n",
              "    30% {\n",
              "      border-color: transparent;\n",
              "      border-left-color: var(--fill-color);\n",
              "      border-top-color: var(--fill-color);\n",
              "      border-right-color: var(--fill-color);\n",
              "    }\n",
              "    40% {\n",
              "      border-color: transparent;\n",
              "      border-right-color: var(--fill-color);\n",
              "      border-top-color: var(--fill-color);\n",
              "    }\n",
              "    60% {\n",
              "      border-color: transparent;\n",
              "      border-right-color: var(--fill-color);\n",
              "    }\n",
              "    80% {\n",
              "      border-color: transparent;\n",
              "      border-right-color: var(--fill-color);\n",
              "      border-bottom-color: var(--fill-color);\n",
              "    }\n",
              "    90% {\n",
              "      border-color: transparent;\n",
              "      border-bottom-color: var(--fill-color);\n",
              "    }\n",
              "  }\n",
              "</style>\n",
              "\n",
              "  <script>\n",
              "    async function quickchart(key) {\n",
              "      const quickchartButtonEl =\n",
              "        document.querySelector('#' + key + ' button');\n",
              "      quickchartButtonEl.disabled = true;  // To prevent multiple clicks.\n",
              "      quickchartButtonEl.classList.add('colab-df-spinner');\n",
              "      try {\n",
              "        const charts = await google.colab.kernel.invokeFunction(\n",
              "            'suggestCharts', [key], {});\n",
              "      } catch (error) {\n",
              "        console.error('Error during call to suggestCharts:', error);\n",
              "      }\n",
              "      quickchartButtonEl.classList.remove('colab-df-spinner');\n",
              "      quickchartButtonEl.classList.add('colab-df-quickchart-complete');\n",
              "    }\n",
              "    (() => {\n",
              "      let quickchartButtonEl =\n",
              "        document.querySelector('#df-c6d5ad00-d999-4172-9a00-5cd9e8930267 button');\n",
              "      quickchartButtonEl.style.display =\n",
              "        google.colab.kernel.accessAllowed ? 'block' : 'none';\n",
              "    })();\n",
              "  </script>\n",
              "</div>\n",
              "    </div>\n",
              "  </div>\n"
            ]
          },
          "metadata": {},
          "execution_count": 4
        }
      ],
      "source": [
        "# Firt Rows\n",
        "df.head()"
      ]
    },
    {
      "cell_type": "code",
      "execution_count": 5,
      "metadata": {
        "colab": {
          "base_uri": "https://localhost:8080/"
        },
        "id": "27hTnR7Yb0KC",
        "outputId": "20c90c0c-e617-4dfd-aadf-20e374dc0980"
      },
      "outputs": [
        {
          "output_type": "execute_result",
          "data": {
            "text/plain": [
              "Index(['First Name', 'Last name', 'Age', 'SALARY', 'STREET Address1',\n",
              "       'STREET Address2', 'STREET Address3', 'email'],\n",
              "      dtype='object')"
            ]
          },
          "metadata": {},
          "execution_count": 5
        }
      ],
      "source": [
        "# Columns\n",
        "df.columns"
      ]
    },
    {
      "cell_type": "code",
      "execution_count": 6,
      "metadata": {
        "colab": {
          "base_uri": "https://localhost:8080/"
        },
        "id": "814oVNRDb0KE",
        "outputId": "15f4816a-1132-47d4-b406-a715bc8e330f"
      },
      "outputs": [
        {
          "output_type": "execute_result",
          "data": {
            "text/plain": [
              "['T',\n",
              " '__abs__',\n",
              " '__add__',\n",
              " '__and__',\n",
              " '__annotations__',\n",
              " '__array__',\n",
              " '__array_priority__',\n",
              " '__array_ufunc__',\n",
              " '__array_wrap__',\n",
              " '__bool__',\n",
              " '__class__',\n",
              " '__contains__',\n",
              " '__copy__',\n",
              " '__deepcopy__',\n",
              " '__delattr__',\n",
              " '__dict__',\n",
              " '__dir__',\n",
              " '__divmod__',\n",
              " '__doc__',\n",
              " '__eq__',\n",
              " '__floordiv__',\n",
              " '__format__',\n",
              " '__ge__',\n",
              " '__getattribute__',\n",
              " '__getitem__',\n",
              " '__gt__',\n",
              " '__hash__',\n",
              " '__iadd__',\n",
              " '__init__',\n",
              " '__init_subclass__',\n",
              " '__invert__',\n",
              " '__iter__',\n",
              " '__le__',\n",
              " '__len__',\n",
              " '__lt__',\n",
              " '__mod__',\n",
              " '__module__',\n",
              " '__mul__',\n",
              " '__ne__',\n",
              " '__neg__',\n",
              " '__new__',\n",
              " '__nonzero__',\n",
              " '__or__',\n",
              " '__pos__',\n",
              " '__pow__',\n",
              " '__radd__',\n",
              " '__rand__',\n",
              " '__rdivmod__',\n",
              " '__reduce__',\n",
              " '__reduce_ex__',\n",
              " '__repr__',\n",
              " '__rfloordiv__',\n",
              " '__rmod__',\n",
              " '__rmul__',\n",
              " '__ror__',\n",
              " '__rpow__',\n",
              " '__rsub__',\n",
              " '__rtruediv__',\n",
              " '__rxor__',\n",
              " '__setattr__',\n",
              " '__setitem__',\n",
              " '__sizeof__',\n",
              " '__str__',\n",
              " '__sub__',\n",
              " '__subclasshook__',\n",
              " '__truediv__',\n",
              " '__weakref__',\n",
              " '__xor__',\n",
              " '_accessors',\n",
              " '_arith_method',\n",
              " '_assert_can_do_setop',\n",
              " '_attributes',\n",
              " '_cache',\n",
              " '_can_hold_identifiers_and_holds_name',\n",
              " '_can_hold_na',\n",
              " '_can_hold_strings',\n",
              " '_can_use_libjoin',\n",
              " '_check_indexing_error',\n",
              " '_check_indexing_method',\n",
              " '_cleanup',\n",
              " '_cmp_method',\n",
              " '_comparables',\n",
              " '_concat',\n",
              " '_construct_result',\n",
              " '_constructor',\n",
              " '_convert_can_do_setop',\n",
              " '_convert_slice_indexer',\n",
              " '_convert_tolerance',\n",
              " '_data',\n",
              " '_data_cls',\n",
              " '_deprecate_dti_setop',\n",
              " '_deprecated_arg',\n",
              " '_difference',\n",
              " '_difference_compat',\n",
              " '_dir_additions',\n",
              " '_dir_additions_for_owner',\n",
              " '_dir_deletions',\n",
              " '_drop_level_numbers',\n",
              " '_dtype_to_subclass',\n",
              " '_duplicated',\n",
              " '_engine',\n",
              " '_engine_type',\n",
              " '_ensure_array',\n",
              " '_filter_indexer_tolerance',\n",
              " '_find_common_type_compat',\n",
              " '_format_attrs',\n",
              " '_format_data',\n",
              " '_format_duplicate_message',\n",
              " '_format_native_types',\n",
              " '_format_space',\n",
              " '_format_with_header',\n",
              " '_formatter_func',\n",
              " '_from_join_target',\n",
              " '_get_attributes_dict',\n",
              " '_get_default_index_names',\n",
              " '_get_engine_target',\n",
              " '_get_fill_indexer',\n",
              " '_get_fill_indexer_searchsorted',\n",
              " '_get_grouper_for_level',\n",
              " '_get_indexer',\n",
              " '_get_indexer_non_comparable',\n",
              " '_get_indexer_strict',\n",
              " '_get_level_names',\n",
              " '_get_level_number',\n",
              " '_get_level_values',\n",
              " '_get_names',\n",
              " '_get_nearest_indexer',\n",
              " '_get_reconciled_name_object',\n",
              " '_get_string_slice',\n",
              " '_get_values_for_loc',\n",
              " '_getitem_slice',\n",
              " '_hidden_attrs',\n",
              " '_id',\n",
              " '_index_as_unique',\n",
              " '_inner_indexer',\n",
              " '_intersection',\n",
              " '_intersection_via_get_indexer',\n",
              " '_invalid_indexer',\n",
              " '_is_all_dates',\n",
              " '_is_backward_compat_public_numeric_index',\n",
              " '_is_comparable_dtype',\n",
              " '_is_memory_usage_qualified',\n",
              " '_is_multi',\n",
              " '_is_numeric_dtype',\n",
              " '_is_strictly_monotonic_decreasing',\n",
              " '_is_strictly_monotonic_increasing',\n",
              " '_isnan',\n",
              " '_join_level',\n",
              " '_join_monotonic',\n",
              " '_join_multi',\n",
              " '_join_non_unique',\n",
              " '_join_precedence',\n",
              " '_join_via_get_indexer',\n",
              " '_left_indexer',\n",
              " '_left_indexer_unique',\n",
              " '_logical_method',\n",
              " '_map_values',\n",
              " '_maybe_cast_indexer',\n",
              " '_maybe_cast_listlike_indexer',\n",
              " '_maybe_cast_slice_bound',\n",
              " '_maybe_check_unique',\n",
              " '_maybe_disable_logical_methods',\n",
              " '_maybe_disallow_fill',\n",
              " '_maybe_preserve_names',\n",
              " '_maybe_promote',\n",
              " '_memory_usage',\n",
              " '_mpl_repr',\n",
              " '_na_value',\n",
              " '_name',\n",
              " '_no_setting_name',\n",
              " '_outer_indexer',\n",
              " '_raise_if_missing',\n",
              " '_reduce',\n",
              " '_reindex_non_unique',\n",
              " '_rename',\n",
              " '_require_scalar',\n",
              " '_requires_unique_msg',\n",
              " '_reset_cache',\n",
              " '_reset_identity',\n",
              " '_scalar_data_error',\n",
              " '_searchsorted_monotonic',\n",
              " '_set_names',\n",
              " '_shallow_copy',\n",
              " '_should_compare',\n",
              " '_should_fallback_to_positional',\n",
              " '_should_partial_index',\n",
              " '_simple_new',\n",
              " '_sort_levels_monotonic',\n",
              " '_string_data_error',\n",
              " '_summary',\n",
              " '_supports_partial_string_indexing',\n",
              " '_transform_index',\n",
              " '_typ',\n",
              " '_unary_method',\n",
              " '_union',\n",
              " '_validate_can_reindex',\n",
              " '_validate_fill_value',\n",
              " '_validate_index_level',\n",
              " '_validate_indexer',\n",
              " '_validate_names',\n",
              " '_validate_positional_slice',\n",
              " '_validate_sort_keyword',\n",
              " '_values',\n",
              " '_view',\n",
              " '_with_infer',\n",
              " '_wrap_difference_result',\n",
              " '_wrap_intersection_result',\n",
              " '_wrap_joined_index',\n",
              " '_wrap_reindex_result',\n",
              " '_wrap_setop_result',\n",
              " 'all',\n",
              " 'any',\n",
              " 'append',\n",
              " 'argmax',\n",
              " 'argmin',\n",
              " 'argsort',\n",
              " 'array',\n",
              " 'asi8',\n",
              " 'asof',\n",
              " 'asof_locs',\n",
              " 'astype',\n",
              " 'copy',\n",
              " 'delete',\n",
              " 'difference',\n",
              " 'drop',\n",
              " 'drop_duplicates',\n",
              " 'droplevel',\n",
              " 'dropna',\n",
              " 'dtype',\n",
              " 'duplicated',\n",
              " 'empty',\n",
              " 'equals',\n",
              " 'factorize',\n",
              " 'fillna',\n",
              " 'format',\n",
              " 'get_indexer',\n",
              " 'get_indexer_for',\n",
              " 'get_indexer_non_unique',\n",
              " 'get_level_values',\n",
              " 'get_loc',\n",
              " 'get_slice_bound',\n",
              " 'get_value',\n",
              " 'groupby',\n",
              " 'has_duplicates',\n",
              " 'hasnans',\n",
              " 'holds_integer',\n",
              " 'identical',\n",
              " 'inferred_type',\n",
              " 'insert',\n",
              " 'intersection',\n",
              " 'is_',\n",
              " 'is_all_dates',\n",
              " 'is_boolean',\n",
              " 'is_categorical',\n",
              " 'is_floating',\n",
              " 'is_integer',\n",
              " 'is_interval',\n",
              " 'is_mixed',\n",
              " 'is_monotonic',\n",
              " 'is_monotonic_decreasing',\n",
              " 'is_monotonic_increasing',\n",
              " 'is_numeric',\n",
              " 'is_object',\n",
              " 'is_type_compatible',\n",
              " 'is_unique',\n",
              " 'isin',\n",
              " 'isna',\n",
              " 'isnull',\n",
              " 'item',\n",
              " 'join',\n",
              " 'map',\n",
              " 'max',\n",
              " 'memory_usage',\n",
              " 'min',\n",
              " 'name',\n",
              " 'names',\n",
              " 'nbytes',\n",
              " 'ndim',\n",
              " 'nlevels',\n",
              " 'notna',\n",
              " 'notnull',\n",
              " 'nunique',\n",
              " 'putmask',\n",
              " 'ravel',\n",
              " 'reindex',\n",
              " 'rename',\n",
              " 'repeat',\n",
              " 'searchsorted',\n",
              " 'set_names',\n",
              " 'shape',\n",
              " 'shift',\n",
              " 'size',\n",
              " 'slice_indexer',\n",
              " 'slice_locs',\n",
              " 'sort',\n",
              " 'sort_values',\n",
              " 'sortlevel',\n",
              " 'str',\n",
              " 'symmetric_difference',\n",
              " 'take',\n",
              " 'to_flat_index',\n",
              " 'to_frame',\n",
              " 'to_list',\n",
              " 'to_native_types',\n",
              " 'to_numpy',\n",
              " 'to_series',\n",
              " 'transpose',\n",
              " 'union',\n",
              " 'unique',\n",
              " 'value_counts',\n",
              " 'values',\n",
              " 'view',\n",
              " 'where']"
            ]
          },
          "metadata": {},
          "execution_count": 6
        }
      ],
      "source": [
        "## Features of Columns\n",
        "dir(df.columns)"
      ]
    },
    {
      "cell_type": "code",
      "execution_count": 7,
      "metadata": {
        "colab": {
          "base_uri": "https://localhost:8080/"
        },
        "id": "MG3r1QDYb0KG",
        "outputId": "5c7479bf-f9c6-41e2-eeff-7ad6113b0078"
      },
      "outputs": [
        {
          "output_type": "execute_result",
          "data": {
            "text/plain": [
              "array(['First Name', 'Last name', 'Age', 'SALARY', 'STREET Address1',\n",
              "       'STREET Address2', 'STREET Address3', 'email'], dtype=object)"
            ]
          },
          "metadata": {},
          "execution_count": 7
        }
      ],
      "source": [
        "### Get The Columns As an Array\n",
        "df.columns.values"
      ]
    },
    {
      "cell_type": "code",
      "execution_count": 8,
      "metadata": {
        "colab": {
          "base_uri": "https://localhost:8080/"
        },
        "id": "Lt_IBrDMb0KK",
        "outputId": "3caf1e4b-504e-428f-e16c-4508b8670f12"
      },
      "outputs": [
        {
          "output_type": "execute_result",
          "data": {
            "text/plain": [
              "['First Name',\n",
              " 'Last name',\n",
              " 'Age',\n",
              " 'SALARY',\n",
              " 'STREET Address1',\n",
              " 'STREET Address2',\n",
              " 'STREET Address3',\n",
              " 'email']"
            ]
          },
          "metadata": {},
          "execution_count": 8
        }
      ],
      "source": [
        "### Get The Columns As  List\n",
        "df.columns.tolist()"
      ]
    },
    {
      "cell_type": "code",
      "execution_count": 9,
      "metadata": {
        "colab": {
          "base_uri": "https://localhost:8080/"
        },
        "id": "RExj2gDTb0KN",
        "outputId": "0c4b7b57-fee9-4c49-a996-bb6e3b911306"
      },
      "outputs": [
        {
          "output_type": "execute_result",
          "data": {
            "text/plain": [
              "Index(['First Name', 'Last name', 'Age', 'SALARY', 'STREET Address1',\n",
              "       'STREET Address2', 'STREET Address3', 'email'],\n",
              "      dtype='object')"
            ]
          },
          "metadata": {},
          "execution_count": 9
        }
      ],
      "source": [
        "### To View Columns Names\n",
        "df.columns.view()"
      ]
    },
    {
      "cell_type": "code",
      "execution_count": 14,
      "metadata": {
        "colab": {
          "base_uri": "https://localhost:8080/"
        },
        "id": "fml5nw2Db0KP",
        "outputId": "52dd71fa-3128-4d3d-fb22-c087004f4a46"
      },
      "outputs": [
        {
          "output_type": "stream",
          "name": "stdout",
          "text": [
            "<class 'pandas.core.frame.DataFrame'>\n",
            "RangeIndex: 100 entries, 0 to 99\n",
            "Data columns (total 8 columns):\n",
            " #   Column           Non-Null Count  Dtype \n",
            "---  ------           --------------  ----- \n",
            " 0   First Name       100 non-null    object\n",
            " 1   Last name        100 non-null    object\n",
            " 2   Age              100 non-null    object\n",
            " 3   SALARY           100 non-null    object\n",
            " 4   STREET Address1  100 non-null    object\n",
            " 5   STREET Address2  100 non-null    object\n",
            " 6   STREET Address3  100 non-null    object\n",
            " 7   email            100 non-null    object\n",
            "dtypes: object(8)\n",
            "memory usage: 6.4+ KB\n"
          ]
        }
      ],
      "source": [
        "### To View a Summary of the Column Names\n",
        "df.info()"
      ]
    },
    {
      "cell_type": "code",
      "execution_count": 15,
      "metadata": {
        "colab": {
          "base_uri": "https://localhost:8080/"
        },
        "id": "uZhwyoF4b0KS",
        "outputId": "aa0ff68b-82ce-450a-aa62-2180d2ddd4af"
      },
      "outputs": [
        {
          "output_type": "execute_result",
          "data": {
            "text/plain": [
              "First Name              First Name\n",
              "Last name                Last name\n",
              "Age                            Age\n",
              "SALARY                      SALARY\n",
              "STREET Address1    STREET Address1\n",
              "STREET Address2    STREET Address2\n",
              "STREET Address3    STREET Address3\n",
              "email                        email\n",
              "dtype: object"
            ]
          },
          "metadata": {},
          "execution_count": 15
        }
      ],
      "source": [
        "# Convert the Column Names To Series/ DataFrame\n",
        "df.columns.to_series()"
      ]
    },
    {
      "cell_type": "code",
      "execution_count": 16,
      "metadata": {
        "colab": {
          "base_uri": "https://localhost:8080/",
          "height": 571
        },
        "id": "yQmepbCXb0KT",
        "outputId": "56d7b663-ca5e-4d72-fb7d-d36c5337776d"
      },
      "outputs": [
        {
          "output_type": "execute_result",
          "data": {
            "text/plain": [
              "                               0\n",
              "First Name            First Name\n",
              "Last name              Last name\n",
              "Age                          Age\n",
              "SALARY                    SALARY\n",
              "STREET Address1  STREET Address1\n",
              "STREET Address2  STREET Address2\n",
              "STREET Address3  STREET Address3\n",
              "email                      email"
            ],
            "text/html": [
              "\n",
              "  <div id=\"df-ec61232d-7d30-4fe4-8f81-a409d56daaad\" class=\"colab-df-container\">\n",
              "    <div>\n",
              "<style scoped>\n",
              "    .dataframe tbody tr th:only-of-type {\n",
              "        vertical-align: middle;\n",
              "    }\n",
              "\n",
              "    .dataframe tbody tr th {\n",
              "        vertical-align: top;\n",
              "    }\n",
              "\n",
              "    .dataframe thead th {\n",
              "        text-align: right;\n",
              "    }\n",
              "</style>\n",
              "<table border=\"1\" class=\"dataframe\">\n",
              "  <thead>\n",
              "    <tr style=\"text-align: right;\">\n",
              "      <th></th>\n",
              "      <th>0</th>\n",
              "    </tr>\n",
              "  </thead>\n",
              "  <tbody>\n",
              "    <tr>\n",
              "      <th>First Name</th>\n",
              "      <td>First Name</td>\n",
              "    </tr>\n",
              "    <tr>\n",
              "      <th>Last name</th>\n",
              "      <td>Last name</td>\n",
              "    </tr>\n",
              "    <tr>\n",
              "      <th>Age</th>\n",
              "      <td>Age</td>\n",
              "    </tr>\n",
              "    <tr>\n",
              "      <th>SALARY</th>\n",
              "      <td>SALARY</td>\n",
              "    </tr>\n",
              "    <tr>\n",
              "      <th>STREET Address1</th>\n",
              "      <td>STREET Address1</td>\n",
              "    </tr>\n",
              "    <tr>\n",
              "      <th>STREET Address2</th>\n",
              "      <td>STREET Address2</td>\n",
              "    </tr>\n",
              "    <tr>\n",
              "      <th>STREET Address3</th>\n",
              "      <td>STREET Address3</td>\n",
              "    </tr>\n",
              "    <tr>\n",
              "      <th>email</th>\n",
              "      <td>email</td>\n",
              "    </tr>\n",
              "  </tbody>\n",
              "</table>\n",
              "</div>\n",
              "    <div class=\"colab-df-buttons\">\n",
              "\n",
              "  <div class=\"colab-df-container\">\n",
              "    <button class=\"colab-df-convert\" onclick=\"convertToInteractive('df-ec61232d-7d30-4fe4-8f81-a409d56daaad')\"\n",
              "            title=\"Convert this dataframe to an interactive table.\"\n",
              "            style=\"display:none;\">\n",
              "\n",
              "  <svg xmlns=\"http://www.w3.org/2000/svg\" height=\"24px\" viewBox=\"0 -960 960 960\">\n",
              "    <path d=\"M120-120v-720h720v720H120Zm60-500h600v-160H180v160Zm220 220h160v-160H400v160Zm0 220h160v-160H400v160ZM180-400h160v-160H180v160Zm440 0h160v-160H620v160ZM180-180h160v-160H180v160Zm440 0h160v-160H620v160Z\"/>\n",
              "  </svg>\n",
              "    </button>\n",
              "\n",
              "  <style>\n",
              "    .colab-df-container {\n",
              "      display:flex;\n",
              "      gap: 12px;\n",
              "    }\n",
              "\n",
              "    .colab-df-convert {\n",
              "      background-color: #E8F0FE;\n",
              "      border: none;\n",
              "      border-radius: 50%;\n",
              "      cursor: pointer;\n",
              "      display: none;\n",
              "      fill: #1967D2;\n",
              "      height: 32px;\n",
              "      padding: 0 0 0 0;\n",
              "      width: 32px;\n",
              "    }\n",
              "\n",
              "    .colab-df-convert:hover {\n",
              "      background-color: #E2EBFA;\n",
              "      box-shadow: 0px 1px 2px rgba(60, 64, 67, 0.3), 0px 1px 3px 1px rgba(60, 64, 67, 0.15);\n",
              "      fill: #174EA6;\n",
              "    }\n",
              "\n",
              "    .colab-df-buttons div {\n",
              "      margin-bottom: 4px;\n",
              "    }\n",
              "\n",
              "    [theme=dark] .colab-df-convert {\n",
              "      background-color: #3B4455;\n",
              "      fill: #D2E3FC;\n",
              "    }\n",
              "\n",
              "    [theme=dark] .colab-df-convert:hover {\n",
              "      background-color: #434B5C;\n",
              "      box-shadow: 0px 1px 3px 1px rgba(0, 0, 0, 0.15);\n",
              "      filter: drop-shadow(0px 1px 2px rgba(0, 0, 0, 0.3));\n",
              "      fill: #FFFFFF;\n",
              "    }\n",
              "  </style>\n",
              "\n",
              "    <script>\n",
              "      const buttonEl =\n",
              "        document.querySelector('#df-ec61232d-7d30-4fe4-8f81-a409d56daaad button.colab-df-convert');\n",
              "      buttonEl.style.display =\n",
              "        google.colab.kernel.accessAllowed ? 'block' : 'none';\n",
              "\n",
              "      async function convertToInteractive(key) {\n",
              "        const element = document.querySelector('#df-ec61232d-7d30-4fe4-8f81-a409d56daaad');\n",
              "        const dataTable =\n",
              "          await google.colab.kernel.invokeFunction('convertToInteractive',\n",
              "                                                    [key], {});\n",
              "        if (!dataTable) return;\n",
              "\n",
              "        const docLinkHtml = 'Like what you see? Visit the ' +\n",
              "          '<a target=\"_blank\" href=https://colab.research.google.com/notebooks/data_table.ipynb>data table notebook</a>'\n",
              "          + ' to learn more about interactive tables.';\n",
              "        element.innerHTML = '';\n",
              "        dataTable['output_type'] = 'display_data';\n",
              "        await google.colab.output.renderOutput(dataTable, element);\n",
              "        const docLink = document.createElement('div');\n",
              "        docLink.innerHTML = docLinkHtml;\n",
              "        element.appendChild(docLink);\n",
              "      }\n",
              "    </script>\n",
              "  </div>\n",
              "\n",
              "\n",
              "<div id=\"df-70753a68-bcde-4a93-b6de-ce676a4519e3\">\n",
              "  <button class=\"colab-df-quickchart\" onclick=\"quickchart('df-70753a68-bcde-4a93-b6de-ce676a4519e3')\"\n",
              "            title=\"Suggest charts.\"\n",
              "            style=\"display:none;\">\n",
              "\n",
              "<svg xmlns=\"http://www.w3.org/2000/svg\" height=\"24px\"viewBox=\"0 0 24 24\"\n",
              "     width=\"24px\">\n",
              "    <g>\n",
              "        <path d=\"M19 3H5c-1.1 0-2 .9-2 2v14c0 1.1.9 2 2 2h14c1.1 0 2-.9 2-2V5c0-1.1-.9-2-2-2zM9 17H7v-7h2v7zm4 0h-2V7h2v10zm4 0h-2v-4h2v4z\"/>\n",
              "    </g>\n",
              "</svg>\n",
              "  </button>\n",
              "\n",
              "<style>\n",
              "  .colab-df-quickchart {\n",
              "      --bg-color: #E8F0FE;\n",
              "      --fill-color: #1967D2;\n",
              "      --hover-bg-color: #E2EBFA;\n",
              "      --hover-fill-color: #174EA6;\n",
              "      --disabled-fill-color: #AAA;\n",
              "      --disabled-bg-color: #DDD;\n",
              "  }\n",
              "\n",
              "  [theme=dark] .colab-df-quickchart {\n",
              "      --bg-color: #3B4455;\n",
              "      --fill-color: #D2E3FC;\n",
              "      --hover-bg-color: #434B5C;\n",
              "      --hover-fill-color: #FFFFFF;\n",
              "      --disabled-bg-color: #3B4455;\n",
              "      --disabled-fill-color: #666;\n",
              "  }\n",
              "\n",
              "  .colab-df-quickchart {\n",
              "    background-color: var(--bg-color);\n",
              "    border: none;\n",
              "    border-radius: 50%;\n",
              "    cursor: pointer;\n",
              "    display: none;\n",
              "    fill: var(--fill-color);\n",
              "    height: 32px;\n",
              "    padding: 0;\n",
              "    width: 32px;\n",
              "  }\n",
              "\n",
              "  .colab-df-quickchart:hover {\n",
              "    background-color: var(--hover-bg-color);\n",
              "    box-shadow: 0 1px 2px rgba(60, 64, 67, 0.3), 0 1px 3px 1px rgba(60, 64, 67, 0.15);\n",
              "    fill: var(--button-hover-fill-color);\n",
              "  }\n",
              "\n",
              "  .colab-df-quickchart-complete:disabled,\n",
              "  .colab-df-quickchart-complete:disabled:hover {\n",
              "    background-color: var(--disabled-bg-color);\n",
              "    fill: var(--disabled-fill-color);\n",
              "    box-shadow: none;\n",
              "  }\n",
              "\n",
              "  .colab-df-spinner {\n",
              "    border: 2px solid var(--fill-color);\n",
              "    border-color: transparent;\n",
              "    border-bottom-color: var(--fill-color);\n",
              "    animation:\n",
              "      spin 1s steps(1) infinite;\n",
              "  }\n",
              "\n",
              "  @keyframes spin {\n",
              "    0% {\n",
              "      border-color: transparent;\n",
              "      border-bottom-color: var(--fill-color);\n",
              "      border-left-color: var(--fill-color);\n",
              "    }\n",
              "    20% {\n",
              "      border-color: transparent;\n",
              "      border-left-color: var(--fill-color);\n",
              "      border-top-color: var(--fill-color);\n",
              "    }\n",
              "    30% {\n",
              "      border-color: transparent;\n",
              "      border-left-color: var(--fill-color);\n",
              "      border-top-color: var(--fill-color);\n",
              "      border-right-color: var(--fill-color);\n",
              "    }\n",
              "    40% {\n",
              "      border-color: transparent;\n",
              "      border-right-color: var(--fill-color);\n",
              "      border-top-color: var(--fill-color);\n",
              "    }\n",
              "    60% {\n",
              "      border-color: transparent;\n",
              "      border-right-color: var(--fill-color);\n",
              "    }\n",
              "    80% {\n",
              "      border-color: transparent;\n",
              "      border-right-color: var(--fill-color);\n",
              "      border-bottom-color: var(--fill-color);\n",
              "    }\n",
              "    90% {\n",
              "      border-color: transparent;\n",
              "      border-bottom-color: var(--fill-color);\n",
              "    }\n",
              "  }\n",
              "</style>\n",
              "\n",
              "  <script>\n",
              "    async function quickchart(key) {\n",
              "      const quickchartButtonEl =\n",
              "        document.querySelector('#' + key + ' button');\n",
              "      quickchartButtonEl.disabled = true;  // To prevent multiple clicks.\n",
              "      quickchartButtonEl.classList.add('colab-df-spinner');\n",
              "      try {\n",
              "        const charts = await google.colab.kernel.invokeFunction(\n",
              "            'suggestCharts', [key], {});\n",
              "      } catch (error) {\n",
              "        console.error('Error during call to suggestCharts:', error);\n",
              "      }\n",
              "      quickchartButtonEl.classList.remove('colab-df-spinner');\n",
              "      quickchartButtonEl.classList.add('colab-df-quickchart-complete');\n",
              "    }\n",
              "    (() => {\n",
              "      let quickchartButtonEl =\n",
              "        document.querySelector('#df-70753a68-bcde-4a93-b6de-ce676a4519e3 button');\n",
              "      quickchartButtonEl.style.display =\n",
              "        google.colab.kernel.accessAllowed ? 'block' : 'none';\n",
              "    })();\n",
              "  </script>\n",
              "</div>\n",
              "    </div>\n",
              "  </div>\n"
            ]
          },
          "metadata": {},
          "execution_count": 16
        },
        {
          "output_type": "display_data",
          "data": {
            "text/plain": [
              "<google.colab._quickchart_helpers.SectionTitle at 0x7f35b308b850>"
            ],
            "text/html": [
              "<h4 class=\"colab-quickchart-section-title\">Categorical distributions</h4>\n",
              "<style>\n",
              "  .colab-quickchart-section-title {\n",
              "      clear: both;\n",
              "  }\n",
              "</style>"
            ]
          },
          "metadata": {}
        },
        {
          "output_type": "display_data",
          "data": {
            "text/plain": [
              "import numpy as np\n",
              "from google.colab import autoviz\n",
              "\n",
              "def categorical_histogram(df, colname, figscale=1, mpl_palette_name='Dark2'):\n",
              "  from matplotlib import pyplot as plt\n",
              "  import seaborn as sns\n",
              "  df.groupby(colname).size().plot(kind='barh', color=sns.palettes.mpl_palette(mpl_palette_name), figsize=(8*figscale, 4.8*figscale))\n",
              "  plt.gca().spines[['top', 'right',]].set_visible(False)\n",
              "  return autoviz.MplChart.from_current_mpl_state()\n",
              "\n",
              "chart = categorical_histogram(_df_0, *[0], **{})\n",
              "chart"
            ],
            "text/html": [
              "      <div class=\"colab-quickchart-chart-with-code\" id=\"chart-d231d044-2592-402f-9d36-fa7beb51b527\">\n",
              "        <img src=\"data:image/png;base64,iVBORw0KGgoAAAANSUhEUgAAAcAAAADgCAYAAACU/rbxAAAAOXRFWHRTb2Z0d2FyZQBNYXRwbG90\n",
              "bGliIHZlcnNpb24zLjcuMSwgaHR0cHM6Ly9tYXRwbG90bGliLm9yZy/bCgiHAAAACXBIWXMAAA9h\n",
              "AAAPYQGoP6dpAAAqZUlEQVR4nO3de1hVdd7//yegoI7iIQ29KSFPIAh7I4im4AFRzMxo9J4xTcFD\n",
              "Hrod+2plUVSoqWmmVt53NvdsYdBxponMw1hxpaaRk5Xp9hj+ZAQPROYkikcE9vr+4df9mz0eAmWL\n",
              "sl6P61pXrs9a67Pen53Xfu11cC0PwzAMRERETMazpgsQERGpCQpAERExJQWgiIiYkgJQRERMSQEo\n",
              "IiKmpAAUERFTUgCKiIgpKQBFRMSUFIAm99Zbb9V0CSIiNUIBaHKHDx+u6RJERGqEAlBERExJASgi\n",
              "IqakABQREVNSAIqIiCl56HVI5jY61IOULvodJCJ3ng4ZFW7tX998IiJiSgpAERExJQVgLbB27Vqm\n",
              "Tp0KwObNm7FarTVbkIjIXaBOTRcgt27w4MEMHjy4pssQEbmr6AjwNvn222+Ji4sjKiqKiIgIPvjg\n",
              "AwoKCmjSpAkvv/wynTt3pn379mzdupWpU6ditVrp1KkTe/fuBeDHH3+kT58+REZGEhoayuTJk3E4\n",
              "HABkZGSQmJj4izWUlpZSUlLiMlU43DlqEZE7lwLwNjh16hTjx4/nT3/6E9u3b+ezzz7jmWeeobCw\n",
              "kNOnTxMZGcmOHTt44YUXSEhIYPDgwdjtdpKSkpgxYwYATZo0Yd26dXz33Xfs3r2bgoIC/vrXv1ap\n",
              "jrlz59K4cWOXafc/3TFiEZE7nwLwNvj73//OoUOHeOihh7BarcTHxwNw4MAB6tWr5zx6i4qKomHD\n",
              "hvTp0weA6OhoDh48CIDD4eD555/HYrEQERHB9u3bsdvtVaojJSWF06dPu0zhzattmCIidxVdA7wN\n",
              "DMMgNDSUv//97y7tBQUF+Pj4OOe9vLyoV6+ey3x5eTkACxcu5KeffuLrr7+mXr16TJs2jYsXL1ap\n",
              "Dh8fH5f9AXjpJ5CImJS+/m6D7t27k5+fz4YNG5xtdrudS5cuVbqP4uJiWrZsSb169fjxxx/54IMP\n",
              "3FGqiIhpKABvg6ZNm7J+/XrmzJmDxWIhJCSEF154wXkTS2U8/fTTfP3114SGhjJy5EjnaVQREbk5\n",
              "ehSayelRaCJyp3L3o9B0DdDkmiZMpcPChTVdhojIbaef/iIiYkoKQBERMSUFoIiImJICUERETEkB\n",
              "KCIipqQAFBERU1IAioiIKSkARUTElBSAIiJiSgpAERExJT0L1OQaJnShybC+NV2GiMhVjo1+3a39\n",
              "6whQRERMSQEoIiKm5NYAXLVqFZGRkVitVoKDg4mLi8PhcDBw4ECsVitWqxUPDw/CwsKwWq3ExsYC\n",
              "ONuuvDsvPT3d2efmzZupX7++c3ur1cpjjz12w2Vr1651zrds2ZIWLVo45//0pz9ds/ZDhw7h6enJ\n",
              "rFmzbjjGoUOHkpGRcc1lzz77LGlpaVX/4KropZdecn6GVquVv/zlL27fp4jI3c5tr0MqKipi/Pjx\n",
              "fPfddwQEBACwY8cOPDw8+Pjjj53reXh4kJOTQ5MmTVy2v9K2a9cuunTpwoABA2jVqhUAQUFB2O32\n",
              "a+73essGDx4MQFpaGqdOnWLx4sU3rH/ZsmXExcWRnp5OamoqHh4elRt4JVx5Ea6nZ/X8/njuueeY\n",
              "PXs2AIWFhXTs2JH4+HiaN29eLf2LiNRGbjsCPH78OF5eXjRr1szZ1rlz5yoHicVioWnTphw7dqy6\n",
              "S7yuiooKMjIyePvtt2nUqBGbNm1yLsvNzaV79+6EhoaSmJhISUmJc1lRUREJCQmEhIQQHx/vUnNa\n",
              "WhpDhgwhISGBTp06UVRURHZ2NjExMURGRhIdHc3nn38OwMGDB+nRowcWi4WwsDBSU1MBWLduHeHh\n",
              "4VitVjp16sSaNWsAXH48nD17FsMwrvm2+dLSUkpKSlwmKnQPlIiYk9uOAMPDw4mJiSEgIIBevXrR\n",
              "vXt3hg8fjr+/f5X62bJlC82bN8disTjbDhw4gNVqdc7369ePN9544xeXVVZ2djb33XcfISEhjB07\n",
              "FpvNRt++l++UHDlyJBMnTmTs2LHs2bOHqKgohg8fDsCUKVOIjo4mOzubwsJC56nfK7766it27tyJ\n",
              "n58fhw4dIi0tjezsbHx9fcnLyyM2NpaCggKWLFnCoEGDSElJAeDkyZMApKam8t577/Hggw/icDhc\n",
              "wvftt9/mv//7vzl27Bh/+MMfuPfee68a19y5c5kxY4ZLW902/1Glz0ZEpLZwWwB6enry4Ycfkpub\n",
              "y5YtW/jkk0+YPXs227dvp127dr+4fWxsLBcuXCA/P5+srCy8vb2dy27mFGhV2Gw2xowZA8CIESN4\n",
              "5ZVXKC4uxsvLC7vdTnJyMgBhYWHExMQ4t9u4cSMLFiwAwN/f33na9YqBAwfi5+cHwKeffkpeXh49\n",
              "e/Z0Lvf09OTIkSP07NmT5557jrNnz9KrVy/i4+MB6Nu3L08//TRDhw6lf//+LkE/ZcoUpkyZwq5d\n",
              "u3jiiSfo378/99xzj8v+U1JSmDZtmkvbf/w67hY+KRGRu5fb7wINDg5mwoQJrF69mm7durF27dpK\n",
              "bZeTk0NeXh42m43k5GSOHz/u5kovO3HiBOvXr2fWrFkEBgYSGRlJWVnZdW+WudEp3X9f1rBhQ+ef\n",
              "DcOgX79+2O1251RYWEj79u0ZMmQIW7duJSgoyHk0CLBw4ULS09Np0KABSUlJzJ8//6p9WiwW/P39\n",
              "2bx581XLfHx88PX1dZnwqr5rmyIidxO3BWBhYSFbt251zhcXF5Ofn0/btm2r1E9ycjJ9+/Zlzpw5\n",
              "1V3iNWVmZpKYmMjRo0cpKCigoKCArKwsbDYbvr6+REREkJmZCcC+ffv48ssvndvGx8ezbNky4PL1\n",
              "wBuFfUJCAhs2bGD37t3Otm+++Qa4fA3Qz8+PUaNGMX/+fLZt2wZcvv4YGhrK5MmTmTRpkrN9//79\n",
              "zj7+8Y9/sHPnTkJCQqrpExERqZ3cdgq0vLycmTNnkp+fT4MGDSgvLycpKYlHH320yn3NmzePyMhI\n",
              "pk+fDlx9na9Ro0bk5OT84rLKsNlszJs3z6WtX79+JCcns2PHDjIzMxk9ejRvvvkm7du3dzmF+dZb\n",
              "b5GcnExISAj+/v7ExV3/9GK7du1YuXIlEyZM4Pz581y6dImIiAhWrlxJVlYWK1aswNvbG4fDwdKl\n",
              "SwF48cUXOXDgAN7e3jRo0IB3330XgOnTp5Ofn0/dunWpU6cOS5YsoWPHjpUes4iIGelRaCanR6GJ\n",
              "yJ3K3Y9Cc9sRoNwdxofGstDNf8lERO5EehSaiIiYkgJQRERMSQEoIiKmpAAUERFTUgCKiIgpKQBF\n",
              "RMSUFIAiImJKCkARETElBaCIiJiSAlBERExJj0IzuXP/3yKKst6q6TJERK7SamiFW/vXEaCIiJiS\n",
              "AlBEREzJbQG4atUqIiMjsVqtBAcHExcXh8PhYODAgVitVqxWKx4eHoSFhWG1WomNjQVwtlksFkJC\n",
              "QkhPT3f2uXnzZurXr+/c3mq18thjj91w2dq1a53zLVu2pEWLFs75673l/dChQ3h6ejJr1qwbjnHo\n",
              "0KFkZGRcc9mzzz5LWlpa1T+4KnrxxRcJDg7GYrEQFRVFdna22/cpIlIbuOUaYFFREePHj+e7774j\n",
              "ICAAgB07duDh4cHHH3/sXM/Dw4OcnByaNGnisv2Vtl27dtGlSxcGDBhAq1atAAgKCsJut19zv9db\n",
              "NnjwYADS0tI4deoUixcvvmH9y5YtIy4ujvT0dFJTU/Hw8KjcwCvB4XAA4OlZPb89YmNjefnll6lf\n",
              "vz67du2iZ8+e/PDDD/zqV7+qlv5FRGortxwBHj9+HC8vL5o1a+Zs69y5c5WDxGKx0LRpU44dO1bd\n",
              "JV5XRUUFGRkZvP322zRq1IhNmzY5l+Xm5tK9e3dCQ0NJTEykpKTEuayoqIiEhARCQkKIj493qTkt\n",
              "LY0hQ4aQkJBAp06dKCoqIjs7m5iYGCIjI4mOjubzzz8H4ODBg/To0QOLxUJYWBipqakArFu3jvDw\n",
              "cKxWK506dWLNmjUAPPTQQ9SvXx+AsLAwDMPgxIkT1xxbaWkpJSUlLlOFo3o/PxGRu4VbjgDDw8OJ\n",
              "iYkhICCAXr160b17d4YPH46/v3+V+tmyZQvNmzfHYrE42w4cOIDVanXO9+vXjzfeeOMXl1VWdnY2\n",
              "9913HyEhIYwdOxabzUbfvpffmD5y5EgmTpzI2LFj2bNnD1FRUQwfPhyAKVOmEB0dTXZ2NoWFhc5T\n",
              "v1d89dVX7Ny5Ez8/Pw4dOkRaWhrZ2dn4+vqSl5dHbGwsBQUFLFmyhEGDBpGSkgLAyZMnAUhNTeW9\n",
              "997jwQcfxOFwuITvFenp6bRp08Z51P3v5s6dy4wZM1zaOrev0scjIlJruCUAPT09+fDDD8nNzWXL\n",
              "li188sknzJ49m+3bt9OuXbtf3D42NpYLFy6Qn59PVlYW3t7ezmU3cwq0Kmw2G2PGjAFgxIgRvPLK\n",
              "KxQXF+Pl5YXdbic5ORm4fLQVExPj3G7jxo0sWLAAAH9/f+dp1ysGDhyIn58fAJ9++il5eXn07NnT\n",
              "udzT05MjR47Qs2dPnnvuOc6ePUuvXr2Ij48HoG/fvjz99NMMHTqU/v37uwT9lf3PmDGDzz777LpH\n",
              "2ikpKUybNs2lbdqwxlX8hEREage33gUaHBzMhAkTWL16Nd26dWPt2rWV2i4nJ4e8vDxsNhvJyckc\n",
              "P37cnWU6nThxgvXr1zNr1iwCAwOJjIykrKzsujfL3OiU7r8va9iwofPPhmHQr18/7Ha7cyosLKR9\n",
              "+/YMGTKErVu3EhQU5DwaBFi4cCHp6ek0aNCApKQk5s+f7+xvy5YtjB49mnXr1hEUFHTdmnx8fPD1\n",
              "9XWZvHQfsIiYlFu+/goLC9m6datzvri4mPz8fNq2bVulfpKTk+nbty9z5syp7hKvKTMzk8TERI4e\n",
              "PUpBQQEFBQVkZWVhs9nw9fUlIiKCzMxMAPbt28eXX37p3DY+Pp5ly5YBl68H3ijsExIS2LBhA7t3\n",
              "73a2ffPNN8Dla4B+fn6MGjWK+fPns23bNuDy9cfQ0FAmT57MpEmTnO1ffPEFI0eOZM2aNS6nikVE\n",
              "5Mbccgq0vLycmTNnkp+fT4MGDSgvLycpKYlHH320yn3NmzePyMhIpk+fDlx9na9Ro0bk5OT84rLK\n",
              "sNlszJs3z6WtX79+JCcns2PHDjIzMxk9ejRvvvkm7du3dzmF+dZbb5GcnExISAj+/v7ExcVddz/t\n",
              "2rVj5cqVTJgwgfPnz3Pp0iUiIiJYuXIlWVlZrFixAm9vbxwOB0uXLgUu/3OHAwcO4O3tTYMGDXj3\n",
              "3XcBGDt2LKWlpYwePdrZ//LlywkLC6v0uEVEzMjDMAyjpouQmjNhkAdpyToPKiJ3Hnc/Ck3PAjW5\n",
              "X3WYSquhC2u6DBGR204//UVExJQUgCIiYkoKQBERMSUFoIiImJICUERETEkBKCIipqQAFBERU1IA\n",
              "ioiIKSkARUTElBSAIiJiSgpAERExJT0M2+TCB/ry4MimNV2GiMhV3nv8sFv71xGgiIiYklsDcNWq\n",
              "VURGRmK1WgkODiYuLg6Hw8HAgQOxWq1YrVY8PDwICwvDarUSGxsL4GyzWCyEhISQnp7u7HPz5s3U\n",
              "r1/fub3VauWxxx674bK1a9c651u2bEmLFi2c89d72/uhQ4fw9PRk1qxZNxzj0KFDycjIuOayZ599\n",
              "lrS0tKp/cFW0bNkywsLCqFOnDosXL3b7/kREagO3vQ6pqKiI8ePH89133xEQEADAjh078PDw4OOP\n",
              "P3au5+HhQU5ODk2aNHHZ/krbrl276NKlCwMGDKBVq1YABAUFYbfbr7nf6y0bPHgwAGlpaZw6deoX\n",
              "g2LZsmXExcWRnp5OamoqHh4elRt4JTgcDgA8Pavn90dkZCR//etfmTt3brX0JyJiBm47Ajx+/Dhe\n",
              "Xl40a9bM2da5c+cqB4nFYqFp06YcO3asuku8roqKCjIyMnj77bdp1KgRmzZtci7Lzc2le/fuhIaG\n",
              "kpiYSElJiXNZUVERCQkJhISEEB8f71JzWloaQ4YMISEhgU6dOlFUVER2djYxMTFERkYSHR3N559/\n",
              "DsDBgwfp0aMHFouFsLAwUlNTAVi3bh3h4eFYrVY6derEmjVrgMufUceOHX8xUEtLSykpKXGZHA5d\n",
              "AhYRc3LbEWB4eDgxMTEEBATQq1cvunfvzvDhw/H3969SP1u2bKF58+ZYLBZn24EDB7Barc75fv36\n",
              "8cYbb/zissrKzs7mvvvuIyQkhLFjx2Kz2ejbty8AI0eOZOLEiYwdO5Y9e/YQFRXF8OHDAZgyZQrR\n",
              "0dFkZ2dTWFjoPPV7xVdffcXOnTvx8/Pj0KFDpKWlkZ2dja+vL3l5ecTGxlJQUMCSJUsYNGgQKSkp\n",
              "AJw8eRKA1NRU3nvvPR588EEcDodL+FbG3LlzmTFjhkvbve28q9SHiEht4bYA9PT05MMPPyQ3N5ct\n",
              "W7bwySefMHv2bLZv3067du1+cfvY2FguXLhAfn4+WVlZeHv//1/UN3MKtCpsNhtjxowBYMSIEbzy\n",
              "yisUFxfj5eWF3W4nOTkZgLCwMGJiYpzbbdy4kQULFgDg7+/vPO16xcCBA/Hz8wPg008/JS8vj549\n",
              "ezqXe3p6cuTIEXr27Mlzzz3H2bNn6dWrF/Hx8QD07duXp59+mqFDh9K/f3+XoK+MlJQUpk2b5tLW\n",
              "/TdV+0EiIlJbuP0u0ODgYCZMmMDq1avp1q0ba9eurdR2OTk55OXlYbPZSE5O5vjx426u9LITJ06w\n",
              "fv16Zs2aRWBgIJGRkZSVlV33ZpkbndL992UNGzZ0/tkwDPr164fdbndOhYWFtG/fniFDhrB161aC\n",
              "goKcR4MACxcuJD09nQYNGpCUlMT8+fOrNDYfHx98fX1dJk/P6ru2KSJyN3FbABYWFrJ161bnfHFx\n",
              "Mfn5+bRt27ZK/SQnJ9O3b1/mzJlT3SVeU2ZmJomJiRw9epSCggIKCgrIysrCZrPh6+tLREQEmZmZ\n",
              "AOzbt48vv/zSuW18fDzLli0DLl8PvFHYJyQksGHDBnbv3u1s++abb4DL1wD9/PwYNWoU8+fPZ9u2\n",
              "bcDl64+hoaFMnjyZSZMmOdtFRKTq3HYKtLy8nJkzZ5Kfn0+DBg0oLy8nKSmJRx99tMp9zZs3j8jI\n",
              "SKZPnw5cfZ2vUaNG5OTk/OKyyrDZbMybN8+lrV+/fiQnJ7Njxw4yMzMZPXo0b775Ju3bt3c5hfnW\n",
              "W2+RnJxMSEgI/v7+xMXFXXc/7dq1Y+XKlUyYMIHz589z6dIlIiIiWLlyJVlZWaxYsQJvb28cDgdL\n",
              "ly4F4MUXX+TAgQN4e3vToEED3n33XQAyMjJITU2luLiY1atXs2DBAtatW0dERESlxy0iYjZ6EozJ\n",
              "6UkwInKncveTYNx2BCh3h/jgcSx8fGFNlyEictvpUWgiImJKCkARETElBaCIiJhSla8BHjp0iCNH\n",
              "jgDQunVr2rRpU+1FiYiIuFulA/D7778nKSmJo0eP0rp1awCOHDnC/fffT3p6OqGhoW4rUkREpLpV\n",
              "OgCTk5N5/vnnGTJkiEt7VlYWo0ePdv4jbhERkbtBpa8Bnjp16qrwg8vvwzt9+nS1FiUiIuJulQ7A\n",
              "5s2bs3z5cue77ODye+3++Mc/cs8997ilOBEREXepdAD+8Y9/JCMjg2bNmtGxY0c6duxIs2bNnO0i\n",
              "IiJ3k0pfA2zXrh0bN27kxIkTHD16FID777+fFi1auK04ERERd6nyP4No0aKFQk9ERO56ehaoyZ37\n",
              "43Z+/PSNmi5DROQqLfc/59b+9SQYERExJQXgTVq1ahWRkZFYrVaCg4OJi4tzuUM2KSkJX19fzp07\n",
              "57JdYGAgdrv9uv2++uqreHl5cfiw62tAevfuzQMPPIDVaiUoKIipU6ficDh46aWXGD58uMu6Tz31\n",
              "FJMnT771QYqI1GIKwJtQVFTE+PHjWbVqFXa7ndzcXBYsWICHhwcAJSUlrFu3DovFwgcffFDpfh0O\n",
              "BxkZGfTu3Zv09PSrli9atAi73c63337LmjVryMrK4tVXX2X//v2sWrUKgI0bN7Jx40bmz59fPYMV\n",
              "EamlFIA34fjx43h5edGsWTNnW+fOnZ0B+Oc//5n4+HimTZuGzWardL+fffYZfn5+LFiwgPT0dJcj\n",
              "yn/l6+tLly5dOHz4MN7e3mRmZvJ//s//4dChQ4wfP56MjAwaNGhw1XalpaWUlJS4TBXGtfchIlLb\n",
              "KQBvQnh4ODExMQQEBPDYY4/xxhtvUFhY6Fxus9kYM2YMgwYN4uDBgxw4cKBS/V7ZLiIignvuuYcN\n",
              "GzZcc72ioiJ27drFoEGDnPU89dRTdO7cmd/85jc8+OCD19xu7ty5NG7c2GWyXzhaxdGLiNQOHoZh\n",
              "GDVdxN0qNzeXLVu28Mknn7B582a2b9/OhQsXGDhwIIcPH8bT05Nnn30WLy8v5s2bB1y+Brh69Wqs\n",
              "VqtLXz///DNt27bl8OHDNG7cmCVLlpCTk8P7778PXL4GePjwYX71q19x4MABJk+ezKJFi5zbV1RU\n",
              "UKdOHf75z39e98k8paWllJaWurRNCxzIay0frcZPRUSkerj7LlD9M4hbEBwcTHBwMBMmTGDAgAGs\n",
              "XbuWI0eOcObMGedrosrKynA4HMyePZs6da7/cS9fvpzy8nIsFgtwOdB+/vlnfv75Z2egLVq0iMTE\n",
              "RHbv3k1sbCz9+/fnoYceAsDLy8vlv9fi4+ODj4+PS5uXh04CiIg56dvvJhQWFrJ161bnfHFxMfn5\n",
              "+bRt25YVK1awbds2CgoKKCgooLCwkNatW7N+/fob9mmz2cjKynJud/ToUR555BFWrFhx1brh4eHM\n",
              "mjWLF198ER3Ai4jcHAXgTSgvL2fmzJl06NABq9VKbGwsSUlJlJaWEhAQQHBwsMv6I0aMcLkZJiEh\n",
              "gfvuu885ffHFF/z000/Ex8ffcLt/NWnSJM6dO+e8+1NERKpG1wBNbsI9PZnh90hNlyEichVdAxS3\n",
              "+lVSFC0XuvcvmYjInUinQEVExJQUgCIiYkoKQBERMSUFoIiImJICUERETEkBKCIipqQAFBERU1IA\n",
              "ioiIKSkARUTElBSAIiJiSgpAERExJT0M2+SiOicS12tcTZchInKV+YsGubV/HQGKiIgpmTIAAwMD\n",
              "sdvtt9zPqVOneP3112+9IBERue1MGYDVRQEoInL3UgD+i4ULF9KlSxesVitdunThq6++AsDhcDB5\n",
              "8mQ6duyIxWIhMjKSixcvMnHiRM6cOYPVaiUqKuqq/jZv3kynTp146qmnsFgshIaGsn37duDyW+UT\n",
              "EhKIiooiNDSU4cOHc+7cOZftJk2aRHh4OGFhYezevZvk5GTCwsLo2rUrhYWFzv0sWLCA6OhoOnfu\n",
              "zIABAzh8+PBt+LRERO5uCsB/MXLkSL799lvsdjvvvPMOo0ePBmDXrl1s3LiRffv2sWvXLjZt2oS3\n",
              "tzdLly6lUaNG2O12Z7D9u9zcXJKSkti1axe/+93veOmllwDw8vJi5cqVbN++nb1799K4cWPeeecd\n",
              "l+3GjRvH7t27SUxMJC4ujhdeeIE9e/YQFRXF4sWLAVi5ciUHDhzgq6++YseOHYwYMYKnnnrqmrWU\n",
              "lpZSUlLiMhkORzV+giIidw+9Ef5f7Ny5k9mzZ/Pzzz9Tp04dDhw4wIULF2jTpg3l5eWMGTOGPn36\n",
              "8PDDD+PpWbnfDu3ataNr164APPjggyxYsAAAwzBYtGgR69evp7y8nNOnT9O9e3eX7SIjIwGIioqi\n",
              "Xbt2BAcHAxAdHc1HH30EwOrVq/n222+d61ZUVFy3lrlz5zJjxgyXtlYtgyo1DhGR2kZHgP/PpUuX\n",
              "+PWvf82CBQvYu3cvX3zxBXD5qKlx48bs3buX4cOHk5ubS3h4OHl5eZXqt169es4/e3l5UV5eDlw+\n",
              "ctu0aRNbtmxhz549PPvss1y8ePG6212vH8MwSElJwW63Y7fb2bNnD3v27LlmLSkpKZw+fdplauXX\n",
              "oZKfkIhI7aIA/H8uXrzIpUuXaN26NYDL6cgTJ05w7tw5+vfvz5w5cwgMDGT//v34+vpy4cIFLl26\n",
              "VOX9FRcX07x5c3x9fTlz5gwZGRk3VXdiYiJLly7l5MmTAJSVlbFz585rruvj44Ovr6/L5FHJI1kR\n",
              "kdrGtKdAExISqFu3rnN+27ZtvPbaa0RHR9O8eXOGDRvmXHb06FGefPJJysrKqKiooEePHjz00EPU\n",
              "rVuXUaNGER4eTsOGDa97HfBaRo0axZo1awgKCqJFixbExsbe1M0rI0aM4Oeff6ZPnz4AzlO1ERER\n",
              "Ve5LRMRM9CQYk9OTYETkTuXuJ8GY9ghQLuvZuw3zF7r3L5mIyJ1IF4BERMSUFIAiImJKCkARETEl\n",
              "BaCIiJiSAlBERExJASgiIqakABQREVNSAIqIiCkpAEVExJQUgCIiYkoKQBERMSU9DNvkRod6kNJF\n",
              "v4NE5M7TIeP6L/iuDvrmExERUzJdAAYGBhIUFITVasVqtTJu3DjWrl3L1KlTq9zX4sWL+fHHH2+4\n",
              "r+DgYOfb2wGioqLYvHnzzZQuIiLVyJSvQ3r//fexWq0ubYMHD77muuXl5dSpc+2PafHixfTu3ZuW\n",
              "LVted1+lpaXYbDYmTJhw0/WKiEj1M90R4LVkZGSQmJgIwObNmwkNDWXs2LFYrVY++ugj/vCHPxAS\n",
              "EoLVaiUsLIyvv/6amTNn8sMPP/Db3/4Wq9WK3W6/Zt9paWnMmjWL8+fPX7Vs5cqVdO3alYiICCwW\n",
              "C+vWrXMu6927N8888ww9e/akdevWvPzyy3z88cfExMQQGBjIwoULnesePHiQhx9+mC5duhAeHs6S\n",
              "JUuq9fMREamNTHkE+Nvf/pb69esD8Oqrr161/Pvvv+d//ud/sNlsADRu3Jjc3FxatWpFWVkZpaWl\n",
              "dO3alWXLll3zaPJfWSwW+vTpw6JFi3jppZdcliUkJPD444/j4eFBQUEB3bp14/Dhw/j4+ABw+PBh\n",
              "Pv/8c0pKSggMDKS4uJicnBx++OEHgoKCGDNmDI0aNeLxxx9nxYoVBAcHc/78ebp160bXrl3p0qWL\n",
              "y/5KS0spLS11aatwVPnjExGpFUwZgP8eWhkZGS7L27RpQ69evZzzffv2ZeTIkTzyyCM89NBDdOjQ\n",
              "oUr7mzVrFtHR0UycONGlPT8/nxEjRnDs2DHq1KnDyZMnyc/PJzg4GIChQ4fi5eVF06ZNadOmDYMG\n",
              "DcLDwwN/f39atGhBQUEB3t7e7Nu3j2HDhjn7PXPmDPv3778qAOfOncuMGTNc2izNqzQUEZFaQ6dA\n",
              "r6Fhw4Yu8x9++CGvv/46ZWVlDBw4kL/85S9V6i8wMJDhw4fz2muvubQPGzaMcePGsXfvXux2Ow0b\n",
              "NuTixYvO5fXq1XP+2cvL66r58vJyDMOgWbNm2O1255Sfn09SUtJVdaSkpHD69GmXKVwBKCImZcoj\n",
              "wKooLy+noKCAqKgooqKi+Oc//8k333zDsGHD8PX15fTp05XqJzU1lY4dO1K3bl1nW3FxMQ888AAA\n",
              "K1asoLi4uMr1BQUF4evrS3p6OqNHjwYgLy+PZs2a0axZM5d1fXx8nKdXr/DSTyARMSl9/f2CiooK\n",
              "xowZQ6dOnbBarXz33XdMmzYNgClTpvDkk0/e8CaYK5o3b86UKVMoKipytr311lsMHTqUiIgIdu7c\n",
              "SevWratcX506dfjb3/7GqlWrCA8Pd97Ac+HChSr3JSJiJnoSjMnpSTAicqdy95NgdArU5JomTKXD\n",
              "v/yTChERs9BPfxERMSUFoIiImJICUERETEkBKCIipqQAFBERU1IAioiIKSkARUTElBSAIiJiSgpA\n",
              "ERExJQWgiIiYkgJQRERMSQ/DNrmGCV1oMqxvTZchInKVY6Nfd2v/OgIUERFTUgDeQc6cOUPDhg0Z\n",
              "O3ZsTZciIlLrKQDvIO+//z6RkZGsWrWKs2fP1nQ5IiK1mgLwDmKz2Xj++efp2bMn77//PgBlZWU8\n",
              "9dRTdOjQgW7duvHMM8/Qu3dv5zbLly+na9eudO7cmZ49e7Jr164aql5E5O6iF+LeIfbv38/Ro0dJ\n",
              "SEigvLyc119/nbFjx/L73/+egwcPsm/fPgAGDhzo3Gbr1q38+c9/5osvvsDHx4ecnByGDx/uXPff\n",
              "lZaWUlpa6tpYoXugRMScdAR4h7DZbIwaNQovLy8GDhxIfn4+33//PRs3buSJJ56gbt261K1bl6Sk\n",
              "JOc2a9asYdeuXXTt2hWr1crvfvc7Tp48yYULF665j7lz59K4cWOX6VJ+0e0aoojIHUVHgHeAsrIy\n",
              "li9fTt26dVm5ciUA58+fx2azXbWuh4eH88+GYZCUlMScOXMqtZ+UlBSmTZvm0vYfv467hcpFRO5e\n",
              "OgK8A6xdu5Y2bdpQWFhIQUEBBQUFbNu2jeXLl9OnTx9WrlxJWVkZZWVlZGZmOrcbPHgwK1as4MiR\n",
              "IwA4HA62b99+3f34+Pjg6+vrMuHlcd31RURqMx0B3gFsNhsjRoxwaevYsSP+/v7ce++9BAYGEhIS\n",
              "QtOmTYmKiuKHH34AIDY2lvnz5/PYY49RXl7OpUuXePjhh4mKiqqJYYiI3FX0JJi7wJkzZ2jUqBFl\n",
              "ZWWMGDGCyMhInn/++WrpW0+CEZE7lbufBKMjwLtAfHw8paWlXLx4kZiYGKZMmVLTJYmI3PV0BGhy\n",
              "06ZNY+HChTVdhojIbaebYERExJQUgCIiYkoKQBERMSUFoIiImJLuAjWx0tJSPvnkEyoqKvDy8qrp\n",
              "ctyuoqKCb775hujo6Fo/Xo21dtJYKycgIICnn376F9fTXaAmVlJSQuPGjTl9+vTlp8LUcmYar8Za\n",
              "O2ms1UunQEVExJQUgCIiYkoKQBERMSUFoIn5+Pjw6quv4uPjU9Ol3BZmGq/GWjtprNVLN8GIiIgp\n",
              "6QhQRERMSQEoIiKmpAAUERFTUgCKiIgpKQBN4ODBg3Tv3p0OHTrQpUsX9u3bd831bDYb7du3p23b\n",
              "tjz55JOUlZXd5kpvXWXGumnTJqKjowkJCSE0NJTp06fjcDhqoNpbU9n/rwCGYRAXF0eTJk1uX4HV\n",
              "rLLj3bNnD71796Zjx4507NiRVatW3eZKb11lxupwOJg2bRohISGEh4fTp08f8vLyaqDamzdlyhQC\n",
              "AwPx8PDAbrdfdz23fTcZUuv16dPHSE9PNwzDMD744AMjKirqqnUOHTpktGrVyigqKjIcDofxyCOP\n",
              "GEuWLLnNld66yox1x44dxj/+8Q/DMAzjwoULRo8ePZzb3E0qM9Yr3nzzTWPcuHFG48aNb09xblCZ\n",
              "8Z47d8544IEHjJycHMMwDKO8vNz46aefbmeZ1aIyY/3oo4+M6Oho49KlS4ZhGMasWbOM//zP/7yd\n",
              "Zd6yLVu2GEePHjUCAgKMnTt3XnMdd343KQBruePHjxuNGjUyysrKDMMwDIfDYfj5+RkHDx50WW/+\n",
              "/PnGhAkTnPPr1683evTocVtrvVWVHeu/+6//+i/j1VdfvQ0VVp+qjHXv3r1GbGyskZeXd9cGYGXH\n",
              "+7//+7/G448/XhMlVpvKjnX16tWGxWIxSkpKDIfDYTz33HPG1KlTa6LkW3ajAHTnd5NOgdZyR48e\n",
              "pVWrVtSpc/nFHx4eHrRu3ZojR464rHfkyBECAgKc84GBgVetc6er7Fj/1Y8//khWVhaDBg26XWVW\n",
              "i8qOtaysjCeffJL33nvvrn57QGXHu3//fnx8fBg0aBBWq5VRo0Zx4sSJmij5plV2rI888gi9e/em\n",
              "ZcuWtGrVio0bNzJz5syaKNmt3PndpAAU0yopKeGRRx5h+vTpREVF1XQ5bjFjxgx+/etf07Fjx5ou\n",
              "5bYoLy9nw4YNvPfee+zcuRN/f38mTZpU02W5xfbt29m7dy+FhYX88MMP9O3bl4kTJ9Z0WXcVBWAt\n",
              "d//991NUVER5eTlw+WaII0eO0Lp1a5f1WrduzeHDh53zBQUFV61zp6vsWAHOnDnDgAEDePTRR5k2\n",
              "bdrtLvWWVXasW7Zs4Z133iEwMJCYmBhKSkoIDAy8646KqvL3uE+fPvj7++Ph4cETTzzBtm3baqLk\n",
              "m1bZsWZmZjpvbPL09CQpKYnPP/+8Jkp2K3d+NykAa7l7772Xzp07s2LFCgA+/PBD7rvvPtq1a+ey\n",
              "3pAhQ1i7di0//vgjhmGwdOlShg0bVhMl37TKjvXs2bMMGDCAAQMGkJqaWhOl3rLKjjUnJ4fDhw9T\n",
              "UFDAl19+ia+vLwUFBbRo0aImyr5plR3vb37zG7799ltKSkoA+Pjjj7FYLLe93ltR2bG2adOGTZs2\n",
              "cenSJQD+9re/0alTp9ter7u59bupWq4kyh0tNzfX6Natm9G+fXsjMjLS2L17t2EYhjF27FhjzZo1\n",
              "zvV+//vfG23atDHatGljjBkzxnl32d2kMmN97bXXjDp16hgWi8U5vfbaazVZ9k2p7P/XK/Lz8+/a\n",
              "m2AMo/LjzczMNEJDQ42wsDBjwIABxpEjR2qq5JtWmbFevHjRGDdunBEcHGyEhYUZ/fr1c97dfLcY\n",
              "P3684e/vb3h5eRn33nuv0bZtW8Mwbt93kx6GLSIipqRToCIiYkoKQBERMSUFoIiImJICUERETEkB\n",
              "KCIipqQAFBERU1IAioiIKSkARUTElBSAIiJiSgpAERExpf8L2ZhdIErnPYIAAAAASUVORK5CYII=\n",
              "\">\n",
              "        \n",
              "      </div>\n",
              "      <script></script>\n",
              "      <script type=\"text/javascript\">\n",
              "        (() => {\n",
              "          const chartElement = document.getElementById(\"chart-d231d044-2592-402f-9d36-fa7beb51b527\");\n",
              "          async function getCodeForChartHandler(event) {\n",
              "            const chartCodeResponse =  await google.colab.kernel.invokeFunction(\n",
              "                'getCodeForChart', [\"chart-d231d044-2592-402f-9d36-fa7beb51b527\"], {});\n",
              "            const responseJson = chartCodeResponse.data['application/json'];\n",
              "            await google.colab.notebook.addCell(responseJson.code, 'code');\n",
              "          }\n",
              "          chartElement.onclick = getCodeForChartHandler;\n",
              "        })();\n",
              "      </script>\n",
              "      <style>\n",
              "        .colab-quickchart-chart-with-code  {\n",
              "            display: block;\n",
              "            float: left;\n",
              "            border: 1px solid transparent;\n",
              "        }\n",
              "\n",
              "        .colab-quickchart-chart-with-code:hover {\n",
              "            cursor: pointer;\n",
              "            border: 1px solid #aaa;\n",
              "        }\n",
              "      </style>"
            ]
          },
          "metadata": {}
        }
      ],
      "source": [
        "# Convert the Column Names To DataFrame\n",
        "df.columns.to_frame()"
      ]
    },
    {
      "cell_type": "code",
      "execution_count": 18,
      "metadata": {
        "colab": {
          "base_uri": "https://localhost:8080/"
        },
        "id": "cs4WsGfCb0KV",
        "outputId": "d604378c-8a0c-4835-9019-fdce986f5077"
      },
      "outputs": [
        {
          "output_type": "execute_result",
          "data": {
            "text/plain": [
              "array([ True, False, False, False, False, False, False, False])"
            ]
          },
          "metadata": {},
          "execution_count": 18
        }
      ],
      "source": [
        "# Check to see if column names contains a phrase\n",
        "df.columns.str.contains('First Name')"
      ]
    },
    {
      "cell_type": "code",
      "execution_count": 19,
      "metadata": {
        "colab": {
          "base_uri": "https://localhost:8080/"
        },
        "id": "sOQu0eDSb0KW",
        "outputId": "d1c76099-a1ab-4cb6-9884-eb8dc233bfbc"
      },
      "outputs": [
        {
          "output_type": "execute_result",
          "data": {
            "text/plain": [
              "array([False, False, False, False, False, False, False, False])"
            ]
          },
          "metadata": {},
          "execution_count": 19
        }
      ],
      "source": [
        "# Check to see if column names are duplicated\n",
        "df.columns.duplicated()"
      ]
    },
    {
      "cell_type": "code",
      "execution_count": 20,
      "metadata": {
        "colab": {
          "base_uri": "https://localhost:8080/"
        },
        "id": "_JBdYpaXb0KY",
        "outputId": "19233e73-90f3-4ef3-b917-6a0271ca5744"
      },
      "outputs": [
        {
          "output_type": "execute_result",
          "data": {
            "text/plain": [
              "['__annotations__',\n",
              " '__class__',\n",
              " '__delattr__',\n",
              " '__dict__',\n",
              " '__dir__',\n",
              " '__doc__',\n",
              " '__eq__',\n",
              " '__format__',\n",
              " '__frozen',\n",
              " '__ge__',\n",
              " '__getattribute__',\n",
              " '__getitem__',\n",
              " '__gt__',\n",
              " '__hash__',\n",
              " '__init__',\n",
              " '__init_subclass__',\n",
              " '__iter__',\n",
              " '__le__',\n",
              " '__lt__',\n",
              " '__module__',\n",
              " '__ne__',\n",
              " '__new__',\n",
              " '__reduce__',\n",
              " '__reduce_ex__',\n",
              " '__repr__',\n",
              " '__setattr__',\n",
              " '__sizeof__',\n",
              " '__str__',\n",
              " '__subclasshook__',\n",
              " '__weakref__',\n",
              " '_data',\n",
              " '_doc_args',\n",
              " '_freeze',\n",
              " '_get_series_list',\n",
              " '_index',\n",
              " '_inferred_dtype',\n",
              " '_is_categorical',\n",
              " '_is_string',\n",
              " '_name',\n",
              " '_orig',\n",
              " '_parent',\n",
              " '_validate',\n",
              " '_wrap_result',\n",
              " 'capitalize',\n",
              " 'casefold',\n",
              " 'cat',\n",
              " 'center',\n",
              " 'contains',\n",
              " 'count',\n",
              " 'decode',\n",
              " 'encode',\n",
              " 'endswith',\n",
              " 'extract',\n",
              " 'extractall',\n",
              " 'find',\n",
              " 'findall',\n",
              " 'fullmatch',\n",
              " 'get',\n",
              " 'get_dummies',\n",
              " 'index',\n",
              " 'isalnum',\n",
              " 'isalpha',\n",
              " 'isdecimal',\n",
              " 'isdigit',\n",
              " 'islower',\n",
              " 'isnumeric',\n",
              " 'isspace',\n",
              " 'istitle',\n",
              " 'isupper',\n",
              " 'join',\n",
              " 'len',\n",
              " 'ljust',\n",
              " 'lower',\n",
              " 'lstrip',\n",
              " 'match',\n",
              " 'normalize',\n",
              " 'pad',\n",
              " 'partition',\n",
              " 'removeprefix',\n",
              " 'removesuffix',\n",
              " 'repeat',\n",
              " 'replace',\n",
              " 'rfind',\n",
              " 'rindex',\n",
              " 'rjust',\n",
              " 'rpartition',\n",
              " 'rsplit',\n",
              " 'rstrip',\n",
              " 'slice',\n",
              " 'slice_replace',\n",
              " 'split',\n",
              " 'startswith',\n",
              " 'strip',\n",
              " 'swapcase',\n",
              " 'title',\n",
              " 'translate',\n",
              " 'upper',\n",
              " 'wrap',\n",
              " 'zfill']"
            ]
          },
          "metadata": {},
          "execution_count": 20
        }
      ],
      "source": [
        "### Attributes and Methods of Str\n",
        "dir(df.columns.str)"
      ]
    },
    {
      "cell_type": "code",
      "execution_count": 21,
      "metadata": {
        "colab": {
          "base_uri": "https://localhost:8080/"
        },
        "id": "8lHwBE_Sb0KZ",
        "outputId": "7bbc8720-9030-49c1-b220-9ad9f372b8ed"
      },
      "outputs": [
        {
          "output_type": "execute_result",
          "data": {
            "text/plain": [
              "Index(['first name', 'last name', 'age', 'salary', 'street address1',\n",
              "       'street address2', 'street address3', 'email'],\n",
              "      dtype='object')"
            ]
          },
          "metadata": {},
          "execution_count": 21
        }
      ],
      "source": [
        "### Making Column Name Lower Case\n",
        "df.columns.str.lower()"
      ]
    },
    {
      "cell_type": "code",
      "execution_count": 22,
      "metadata": {
        "colab": {
          "base_uri": "https://localhost:8080/"
        },
        "id": "QrjnFBxNb0Kb",
        "outputId": "73a34f49-73f2-4ad7-cdaa-5f507f21d363"
      },
      "outputs": [
        {
          "output_type": "execute_result",
          "data": {
            "text/plain": [
              "Index(['FIRST NAME', 'LAST NAME', 'AGE', 'SALARY', 'STREET ADDRESS1',\n",
              "       'STREET ADDRESS2', 'STREET ADDRESS3', 'EMAIL'],\n",
              "      dtype='object')"
            ]
          },
          "metadata": {},
          "execution_count": 22
        }
      ],
      "source": [
        "### Making Column Name Upper Case\n",
        "df.columns.str.upper()"
      ]
    },
    {
      "cell_type": "code",
      "execution_count": 23,
      "metadata": {
        "colab": {
          "base_uri": "https://localhost:8080/"
        },
        "id": "GJbYikwmb0Kc",
        "outputId": "dd0f0e8d-59cd-477e-e612-88ad6e4dbea7"
      },
      "outputs": [
        {
          "output_type": "execute_result",
          "data": {
            "text/plain": [
              "Index(['First Name', 'Last Name', 'Age', 'Salary', 'Street Address1',\n",
              "       'Street Address2', 'Street Address3', 'Email'],\n",
              "      dtype='object')"
            ]
          },
          "metadata": {},
          "execution_count": 23
        }
      ],
      "source": [
        "### Making Column Name Title Case\n",
        "df.columns.str.title()"
      ]
    },
    {
      "cell_type": "code",
      "execution_count": 24,
      "metadata": {
        "colab": {
          "base_uri": "https://localhost:8080/"
        },
        "id": "XSBJkCE9b0Kd",
        "outputId": "a111f7c5-422f-4ca1-8f4c-1ecda8801b03"
      },
      "outputs": [
        {
          "output_type": "execute_result",
          "data": {
            "text/plain": [
              "Index(['First_Name', 'Last_name', 'Age', 'SALARY', 'STREET_Address1',\n",
              "       'STREET_Address2', 'STREET_Address3', 'email'],\n",
              "      dtype='object')"
            ]
          },
          "metadata": {},
          "execution_count": 24
        }
      ],
      "source": [
        "### Replacing Empty spaces with underscore\n",
        "df.columns.str.replace(' ','_')"
      ]
    },
    {
      "cell_type": "code",
      "execution_count": 25,
      "metadata": {
        "colab": {
          "base_uri": "https://localhost:8080/",
          "height": 701
        },
        "id": "5f8w6hLxb0Ke",
        "outputId": "b0e8e04a-7223-403b-eb8f-cf43413ce8e6"
      },
      "outputs": [
        {
          "output_type": "execute_result",
          "data": {
            "text/plain": [
              "   First Name  Last name Date of Birth  SALARY            STREET Address1  \\\n",
              "0        Joel    Padilla    10/28/2019  $92.32           431-6530 Eu, Rd.   \n",
              "1       Fritz      Tyler    09/27/2019  $83.91        Ap #377-2267 Ac Av.   \n",
              "2        Wing     Phelps    02/18/2019  $17.15  Ap #545-5786 Pulvinar Ave   \n",
              "3        Ryan       Ross    05/21/2019  $45.97           634-7858 Id Road   \n",
              "4       Drake        Day    01/09/2020  $84.38       999-8221 Tempor, St.   \n",
              "..        ...        ...           ...     ...                        ...   \n",
              "95     Victor      Hobbs    05/24/2019  $54.56             4034 Vitae St.   \n",
              "96       Neil   Bradford    02/07/2020  $74.52       1434 Aliquet, Street   \n",
              "97      Noble     Conrad    10/29/2019  $43.99     Ap #173-7049 Eget, St.   \n",
              "98      Brody   Whitaker    08/09/2018  $96.24   Ap #371-9803 Aliquam Rd.   \n",
              "99      Alden  Mccormick    07/27/2019   $2.66   Ap #375-1139 Risus. Road   \n",
              "\n",
              "                 STREET Address2                 STREET Address3  \\\n",
              "0             364-2264 Augue Rd.  P.O. Box 864, 3882 Orci Street   \n",
              "1               979-2228 Vel Ave                     9865 Eu Av.   \n",
              "2   Ap #973-5781 Sagittis Avenue                     9959 Ut St.   \n",
              "3         907-8824 Fringilla Ave                 318-5271 In Ave   \n",
              "4           297-6939 Turpis. Ave  P.O. Box 638, 6932 Laoreet Rd.   \n",
              "..                           ...                             ...   \n",
              "95     P.O. Box 930, 1683 Eu Rd.     P.O. Box 181, 3360 Mus. Rd.   \n",
              "96             956-6627 Nunc Av.        Ap #727-6109 Sapien. Av.   \n",
              "97        Ap #620-2512 Ut Street                 8768 Aenean St.   \n",
              "98           8892 Euismod Street      Ap #201-659 Libero. Street   \n",
              "99              7259 Duis Avenue           955-4058 Maecenas St.   \n",
              "\n",
              "                                   email  \n",
              "0                            eu@nibh.com  \n",
              "1   est.ac.mattis@malesuadafringilla.net  \n",
              "2                      dolor@cubilia.net  \n",
              "3      interdum.libero.dui@vitaeerat.com  \n",
              "4    nulla.Integer.vulputate@liberoat.ca  \n",
              "..                                   ...  \n",
              "95                 ipsum@dictumaugue.com  \n",
              "96       sapien.Nunc@euodioPhasellus.net  \n",
              "97         tellus.Nunc.lectus@ornare.org  \n",
              "98      non.dapibus.rutrum@eumetus.co.uk  \n",
              "99                ut.erat@aceleifend.com  \n",
              "\n",
              "[100 rows x 8 columns]"
            ],
            "text/html": [
              "\n",
              "  <div id=\"df-405aefb5-637f-4816-be8d-f493ecde0c62\" class=\"colab-df-container\">\n",
              "    <div>\n",
              "<style scoped>\n",
              "    .dataframe tbody tr th:only-of-type {\n",
              "        vertical-align: middle;\n",
              "    }\n",
              "\n",
              "    .dataframe tbody tr th {\n",
              "        vertical-align: top;\n",
              "    }\n",
              "\n",
              "    .dataframe thead th {\n",
              "        text-align: right;\n",
              "    }\n",
              "</style>\n",
              "<table border=\"1\" class=\"dataframe\">\n",
              "  <thead>\n",
              "    <tr style=\"text-align: right;\">\n",
              "      <th></th>\n",
              "      <th>First Name</th>\n",
              "      <th>Last name</th>\n",
              "      <th>Date of Birth</th>\n",
              "      <th>SALARY</th>\n",
              "      <th>STREET Address1</th>\n",
              "      <th>STREET Address2</th>\n",
              "      <th>STREET Address3</th>\n",
              "      <th>email</th>\n",
              "    </tr>\n",
              "  </thead>\n",
              "  <tbody>\n",
              "    <tr>\n",
              "      <th>0</th>\n",
              "      <td>Joel</td>\n",
              "      <td>Padilla</td>\n",
              "      <td>10/28/2019</td>\n",
              "      <td>$92.32</td>\n",
              "      <td>431-6530 Eu, Rd.</td>\n",
              "      <td>364-2264 Augue Rd.</td>\n",
              "      <td>P.O. Box 864, 3882 Orci Street</td>\n",
              "      <td>eu@nibh.com</td>\n",
              "    </tr>\n",
              "    <tr>\n",
              "      <th>1</th>\n",
              "      <td>Fritz</td>\n",
              "      <td>Tyler</td>\n",
              "      <td>09/27/2019</td>\n",
              "      <td>$83.91</td>\n",
              "      <td>Ap #377-2267 Ac Av.</td>\n",
              "      <td>979-2228 Vel Ave</td>\n",
              "      <td>9865 Eu Av.</td>\n",
              "      <td>est.ac.mattis@malesuadafringilla.net</td>\n",
              "    </tr>\n",
              "    <tr>\n",
              "      <th>2</th>\n",
              "      <td>Wing</td>\n",
              "      <td>Phelps</td>\n",
              "      <td>02/18/2019</td>\n",
              "      <td>$17.15</td>\n",
              "      <td>Ap #545-5786 Pulvinar Ave</td>\n",
              "      <td>Ap #973-5781 Sagittis Avenue</td>\n",
              "      <td>9959 Ut St.</td>\n",
              "      <td>dolor@cubilia.net</td>\n",
              "    </tr>\n",
              "    <tr>\n",
              "      <th>3</th>\n",
              "      <td>Ryan</td>\n",
              "      <td>Ross</td>\n",
              "      <td>05/21/2019</td>\n",
              "      <td>$45.97</td>\n",
              "      <td>634-7858 Id Road</td>\n",
              "      <td>907-8824 Fringilla Ave</td>\n",
              "      <td>318-5271 In Ave</td>\n",
              "      <td>interdum.libero.dui@vitaeerat.com</td>\n",
              "    </tr>\n",
              "    <tr>\n",
              "      <th>4</th>\n",
              "      <td>Drake</td>\n",
              "      <td>Day</td>\n",
              "      <td>01/09/2020</td>\n",
              "      <td>$84.38</td>\n",
              "      <td>999-8221 Tempor, St.</td>\n",
              "      <td>297-6939 Turpis. Ave</td>\n",
              "      <td>P.O. Box 638, 6932 Laoreet Rd.</td>\n",
              "      <td>nulla.Integer.vulputate@liberoat.ca</td>\n",
              "    </tr>\n",
              "    <tr>\n",
              "      <th>...</th>\n",
              "      <td>...</td>\n",
              "      <td>...</td>\n",
              "      <td>...</td>\n",
              "      <td>...</td>\n",
              "      <td>...</td>\n",
              "      <td>...</td>\n",
              "      <td>...</td>\n",
              "      <td>...</td>\n",
              "    </tr>\n",
              "    <tr>\n",
              "      <th>95</th>\n",
              "      <td>Victor</td>\n",
              "      <td>Hobbs</td>\n",
              "      <td>05/24/2019</td>\n",
              "      <td>$54.56</td>\n",
              "      <td>4034 Vitae St.</td>\n",
              "      <td>P.O. Box 930, 1683 Eu Rd.</td>\n",
              "      <td>P.O. Box 181, 3360 Mus. Rd.</td>\n",
              "      <td>ipsum@dictumaugue.com</td>\n",
              "    </tr>\n",
              "    <tr>\n",
              "      <th>96</th>\n",
              "      <td>Neil</td>\n",
              "      <td>Bradford</td>\n",
              "      <td>02/07/2020</td>\n",
              "      <td>$74.52</td>\n",
              "      <td>1434 Aliquet, Street</td>\n",
              "      <td>956-6627 Nunc Av.</td>\n",
              "      <td>Ap #727-6109 Sapien. Av.</td>\n",
              "      <td>sapien.Nunc@euodioPhasellus.net</td>\n",
              "    </tr>\n",
              "    <tr>\n",
              "      <th>97</th>\n",
              "      <td>Noble</td>\n",
              "      <td>Conrad</td>\n",
              "      <td>10/29/2019</td>\n",
              "      <td>$43.99</td>\n",
              "      <td>Ap #173-7049 Eget, St.</td>\n",
              "      <td>Ap #620-2512 Ut Street</td>\n",
              "      <td>8768 Aenean St.</td>\n",
              "      <td>tellus.Nunc.lectus@ornare.org</td>\n",
              "    </tr>\n",
              "    <tr>\n",
              "      <th>98</th>\n",
              "      <td>Brody</td>\n",
              "      <td>Whitaker</td>\n",
              "      <td>08/09/2018</td>\n",
              "      <td>$96.24</td>\n",
              "      <td>Ap #371-9803 Aliquam Rd.</td>\n",
              "      <td>8892 Euismod Street</td>\n",
              "      <td>Ap #201-659 Libero. Street</td>\n",
              "      <td>non.dapibus.rutrum@eumetus.co.uk</td>\n",
              "    </tr>\n",
              "    <tr>\n",
              "      <th>99</th>\n",
              "      <td>Alden</td>\n",
              "      <td>Mccormick</td>\n",
              "      <td>07/27/2019</td>\n",
              "      <td>$2.66</td>\n",
              "      <td>Ap #375-1139 Risus. Road</td>\n",
              "      <td>7259 Duis Avenue</td>\n",
              "      <td>955-4058 Maecenas St.</td>\n",
              "      <td>ut.erat@aceleifend.com</td>\n",
              "    </tr>\n",
              "  </tbody>\n",
              "</table>\n",
              "<p>100 rows × 8 columns</p>\n",
              "</div>\n",
              "    <div class=\"colab-df-buttons\">\n",
              "\n",
              "  <div class=\"colab-df-container\">\n",
              "    <button class=\"colab-df-convert\" onclick=\"convertToInteractive('df-405aefb5-637f-4816-be8d-f493ecde0c62')\"\n",
              "            title=\"Convert this dataframe to an interactive table.\"\n",
              "            style=\"display:none;\">\n",
              "\n",
              "  <svg xmlns=\"http://www.w3.org/2000/svg\" height=\"24px\" viewBox=\"0 -960 960 960\">\n",
              "    <path d=\"M120-120v-720h720v720H120Zm60-500h600v-160H180v160Zm220 220h160v-160H400v160Zm0 220h160v-160H400v160ZM180-400h160v-160H180v160Zm440 0h160v-160H620v160ZM180-180h160v-160H180v160Zm440 0h160v-160H620v160Z\"/>\n",
              "  </svg>\n",
              "    </button>\n",
              "\n",
              "  <style>\n",
              "    .colab-df-container {\n",
              "      display:flex;\n",
              "      gap: 12px;\n",
              "    }\n",
              "\n",
              "    .colab-df-convert {\n",
              "      background-color: #E8F0FE;\n",
              "      border: none;\n",
              "      border-radius: 50%;\n",
              "      cursor: pointer;\n",
              "      display: none;\n",
              "      fill: #1967D2;\n",
              "      height: 32px;\n",
              "      padding: 0 0 0 0;\n",
              "      width: 32px;\n",
              "    }\n",
              "\n",
              "    .colab-df-convert:hover {\n",
              "      background-color: #E2EBFA;\n",
              "      box-shadow: 0px 1px 2px rgba(60, 64, 67, 0.3), 0px 1px 3px 1px rgba(60, 64, 67, 0.15);\n",
              "      fill: #174EA6;\n",
              "    }\n",
              "\n",
              "    .colab-df-buttons div {\n",
              "      margin-bottom: 4px;\n",
              "    }\n",
              "\n",
              "    [theme=dark] .colab-df-convert {\n",
              "      background-color: #3B4455;\n",
              "      fill: #D2E3FC;\n",
              "    }\n",
              "\n",
              "    [theme=dark] .colab-df-convert:hover {\n",
              "      background-color: #434B5C;\n",
              "      box-shadow: 0px 1px 3px 1px rgba(0, 0, 0, 0.15);\n",
              "      filter: drop-shadow(0px 1px 2px rgba(0, 0, 0, 0.3));\n",
              "      fill: #FFFFFF;\n",
              "    }\n",
              "  </style>\n",
              "\n",
              "    <script>\n",
              "      const buttonEl =\n",
              "        document.querySelector('#df-405aefb5-637f-4816-be8d-f493ecde0c62 button.colab-df-convert');\n",
              "      buttonEl.style.display =\n",
              "        google.colab.kernel.accessAllowed ? 'block' : 'none';\n",
              "\n",
              "      async function convertToInteractive(key) {\n",
              "        const element = document.querySelector('#df-405aefb5-637f-4816-be8d-f493ecde0c62');\n",
              "        const dataTable =\n",
              "          await google.colab.kernel.invokeFunction('convertToInteractive',\n",
              "                                                    [key], {});\n",
              "        if (!dataTable) return;\n",
              "\n",
              "        const docLinkHtml = 'Like what you see? Visit the ' +\n",
              "          '<a target=\"_blank\" href=https://colab.research.google.com/notebooks/data_table.ipynb>data table notebook</a>'\n",
              "          + ' to learn more about interactive tables.';\n",
              "        element.innerHTML = '';\n",
              "        dataTable['output_type'] = 'display_data';\n",
              "        await google.colab.output.renderOutput(dataTable, element);\n",
              "        const docLink = document.createElement('div');\n",
              "        docLink.innerHTML = docLinkHtml;\n",
              "        element.appendChild(docLink);\n",
              "      }\n",
              "    </script>\n",
              "  </div>\n",
              "\n",
              "\n",
              "<div id=\"df-5a9550ba-bba3-4e37-9111-11bde31d9013\">\n",
              "  <button class=\"colab-df-quickchart\" onclick=\"quickchart('df-5a9550ba-bba3-4e37-9111-11bde31d9013')\"\n",
              "            title=\"Suggest charts.\"\n",
              "            style=\"display:none;\">\n",
              "\n",
              "<svg xmlns=\"http://www.w3.org/2000/svg\" height=\"24px\"viewBox=\"0 0 24 24\"\n",
              "     width=\"24px\">\n",
              "    <g>\n",
              "        <path d=\"M19 3H5c-1.1 0-2 .9-2 2v14c0 1.1.9 2 2 2h14c1.1 0 2-.9 2-2V5c0-1.1-.9-2-2-2zM9 17H7v-7h2v7zm4 0h-2V7h2v10zm4 0h-2v-4h2v4z\"/>\n",
              "    </g>\n",
              "</svg>\n",
              "  </button>\n",
              "\n",
              "<style>\n",
              "  .colab-df-quickchart {\n",
              "      --bg-color: #E8F0FE;\n",
              "      --fill-color: #1967D2;\n",
              "      --hover-bg-color: #E2EBFA;\n",
              "      --hover-fill-color: #174EA6;\n",
              "      --disabled-fill-color: #AAA;\n",
              "      --disabled-bg-color: #DDD;\n",
              "  }\n",
              "\n",
              "  [theme=dark] .colab-df-quickchart {\n",
              "      --bg-color: #3B4455;\n",
              "      --fill-color: #D2E3FC;\n",
              "      --hover-bg-color: #434B5C;\n",
              "      --hover-fill-color: #FFFFFF;\n",
              "      --disabled-bg-color: #3B4455;\n",
              "      --disabled-fill-color: #666;\n",
              "  }\n",
              "\n",
              "  .colab-df-quickchart {\n",
              "    background-color: var(--bg-color);\n",
              "    border: none;\n",
              "    border-radius: 50%;\n",
              "    cursor: pointer;\n",
              "    display: none;\n",
              "    fill: var(--fill-color);\n",
              "    height: 32px;\n",
              "    padding: 0;\n",
              "    width: 32px;\n",
              "  }\n",
              "\n",
              "  .colab-df-quickchart:hover {\n",
              "    background-color: var(--hover-bg-color);\n",
              "    box-shadow: 0 1px 2px rgba(60, 64, 67, 0.3), 0 1px 3px 1px rgba(60, 64, 67, 0.15);\n",
              "    fill: var(--button-hover-fill-color);\n",
              "  }\n",
              "\n",
              "  .colab-df-quickchart-complete:disabled,\n",
              "  .colab-df-quickchart-complete:disabled:hover {\n",
              "    background-color: var(--disabled-bg-color);\n",
              "    fill: var(--disabled-fill-color);\n",
              "    box-shadow: none;\n",
              "  }\n",
              "\n",
              "  .colab-df-spinner {\n",
              "    border: 2px solid var(--fill-color);\n",
              "    border-color: transparent;\n",
              "    border-bottom-color: var(--fill-color);\n",
              "    animation:\n",
              "      spin 1s steps(1) infinite;\n",
              "  }\n",
              "\n",
              "  @keyframes spin {\n",
              "    0% {\n",
              "      border-color: transparent;\n",
              "      border-bottom-color: var(--fill-color);\n",
              "      border-left-color: var(--fill-color);\n",
              "    }\n",
              "    20% {\n",
              "      border-color: transparent;\n",
              "      border-left-color: var(--fill-color);\n",
              "      border-top-color: var(--fill-color);\n",
              "    }\n",
              "    30% {\n",
              "      border-color: transparent;\n",
              "      border-left-color: var(--fill-color);\n",
              "      border-top-color: var(--fill-color);\n",
              "      border-right-color: var(--fill-color);\n",
              "    }\n",
              "    40% {\n",
              "      border-color: transparent;\n",
              "      border-right-color: var(--fill-color);\n",
              "      border-top-color: var(--fill-color);\n",
              "    }\n",
              "    60% {\n",
              "      border-color: transparent;\n",
              "      border-right-color: var(--fill-color);\n",
              "    }\n",
              "    80% {\n",
              "      border-color: transparent;\n",
              "      border-right-color: var(--fill-color);\n",
              "      border-bottom-color: var(--fill-color);\n",
              "    }\n",
              "    90% {\n",
              "      border-color: transparent;\n",
              "      border-bottom-color: var(--fill-color);\n",
              "    }\n",
              "  }\n",
              "</style>\n",
              "\n",
              "  <script>\n",
              "    async function quickchart(key) {\n",
              "      const quickchartButtonEl =\n",
              "        document.querySelector('#' + key + ' button');\n",
              "      quickchartButtonEl.disabled = true;  // To prevent multiple clicks.\n",
              "      quickchartButtonEl.classList.add('colab-df-spinner');\n",
              "      try {\n",
              "        const charts = await google.colab.kernel.invokeFunction(\n",
              "            'suggestCharts', [key], {});\n",
              "      } catch (error) {\n",
              "        console.error('Error during call to suggestCharts:', error);\n",
              "      }\n",
              "      quickchartButtonEl.classList.remove('colab-df-spinner');\n",
              "      quickchartButtonEl.classList.add('colab-df-quickchart-complete');\n",
              "    }\n",
              "    (() => {\n",
              "      let quickchartButtonEl =\n",
              "        document.querySelector('#df-5a9550ba-bba3-4e37-9111-11bde31d9013 button');\n",
              "      quickchartButtonEl.style.display =\n",
              "        google.colab.kernel.accessAllowed ? 'block' : 'none';\n",
              "    })();\n",
              "  </script>\n",
              "</div>\n",
              "    </div>\n",
              "  </div>\n"
            ]
          },
          "metadata": {},
          "execution_count": 25
        }
      ],
      "source": [
        "### Renaming Column Name\n",
        "df.rename(columns={'Age':'Date of Birth'})"
      ]
    },
    {
      "cell_type": "code",
      "execution_count": 26,
      "metadata": {
        "id": "xs7HQLRXb0Kg"
      },
      "outputs": [],
      "source": [
        "### Renaming Column Name /Inplace\n",
        "df.rename(columns={'Age':'Date of Birth'},inplace=True)"
      ]
    },
    {
      "cell_type": "code",
      "execution_count": 27,
      "metadata": {
        "colab": {
          "base_uri": "https://localhost:8080/"
        },
        "id": "LFkM9OANb0Kh",
        "outputId": "f9fec1ed-c37d-45db-ef60-1e5c682d86f2"
      },
      "outputs": [
        {
          "output_type": "execute_result",
          "data": {
            "text/plain": [
              "Index(['First Name', 'Last name', 'Date of Birth', 'SALARY', 'STREET Address1',\n",
              "       'STREET Address2', 'STREET Address3', 'email'],\n",
              "      dtype='object')"
            ]
          },
          "metadata": {},
          "execution_count": 27
        }
      ],
      "source": [
        "df.columns"
      ]
    },
    {
      "cell_type": "code",
      "execution_count": 28,
      "metadata": {
        "colab": {
          "base_uri": "https://localhost:8080/"
        },
        "id": "o1zVna3Fb0Ki",
        "outputId": "1c9fb301-6b3d-41c2-9549-12ae3966336c"
      },
      "outputs": [
        {
          "output_type": "execute_result",
          "data": {
            "text/plain": [
              "8"
            ]
          },
          "metadata": {},
          "execution_count": 28
        }
      ],
      "source": [
        "len(df.columns.values)\n"
      ]
    },
    {
      "cell_type": "code",
      "execution_count": 29,
      "metadata": {
        "id": "wQk8Nbvdb0Kj"
      },
      "outputs": [],
      "source": [
        "# Renaming Column Names using select values\n",
        "df.columns.values[7] = 'Email Address'"
      ]
    },
    {
      "cell_type": "code",
      "execution_count": 30,
      "metadata": {
        "colab": {
          "base_uri": "https://localhost:8080/"
        },
        "id": "BYDcFw2eb0Kj",
        "outputId": "c10170f1-9532-458a-8482-137da77d1257"
      },
      "outputs": [
        {
          "output_type": "execute_result",
          "data": {
            "text/plain": [
              "Index(['First Name', 'Last name', 'Date of Birth', 'SALARY', 'STREET Address1',\n",
              "       'STREET Address2', 'STREET Address3', 'Email Address'],\n",
              "      dtype='object')"
            ]
          },
          "metadata": {},
          "execution_count": 30
        }
      ],
      "source": [
        "df.columns"
      ]
    },
    {
      "cell_type": "code",
      "execution_count": 31,
      "metadata": {
        "colab": {
          "base_uri": "https://localhost:8080/"
        },
        "id": "Dxz-K7Y8b0Kk",
        "outputId": "3c8b4644-d9d3-4743-e969-f038a897f9b9"
      },
      "outputs": [
        {
          "output_type": "execute_result",
          "data": {
            "text/plain": [
              "Index(['First Name', 'Last name', 'Date of Birth', 'STREET Address1',\n",
              "       'STREET Address2', 'STREET Address3', 'Email Address'],\n",
              "      dtype='object')"
            ]
          },
          "metadata": {},
          "execution_count": 31
        }
      ],
      "source": [
        "### Selecting All Columns Except One\n",
        "df.columns[df.columns != 'SALARY']"
      ]
    },
    {
      "cell_type": "code",
      "execution_count": 32,
      "metadata": {
        "colab": {
          "base_uri": "https://localhost:8080/"
        },
        "id": "-SVM71dAb0Kl",
        "outputId": "bd673c4a-0f1b-454c-a046-c618a24ac6ce"
      },
      "outputs": [
        {
          "output_type": "execute_result",
          "data": {
            "text/plain": [
              "Index(['First Name', 'Last name', 'Date of Birth', 'STREET Address1',\n",
              "       'STREET Address2', 'STREET Address3', 'Email Address'],\n",
              "      dtype='object')"
            ]
          },
          "metadata": {},
          "execution_count": 32
        }
      ],
      "source": [
        "### Selecting All Columns Except One\n",
        "df.loc[:, df.columns != 'SALARY'].columns"
      ]
    },
    {
      "cell_type": "code",
      "execution_count": 33,
      "metadata": {
        "colab": {
          "base_uri": "https://localhost:8080/"
        },
        "id": "QjhAr7RGb0Km",
        "outputId": "4e6e249f-6735-4bd8-a90e-a719b27b6e54"
      },
      "outputs": [
        {
          "output_type": "execute_result",
          "data": {
            "text/plain": [
              "Index(['Date of Birth', 'Email Address', 'First Name', 'Last name',\n",
              "       'STREET Address1', 'STREET Address2', 'STREET Address3'],\n",
              "      dtype='object')"
            ]
          },
          "metadata": {},
          "execution_count": 33
        }
      ],
      "source": [
        "# Select Column Names Except One Using Difference\n",
        "df.columns.difference(['SALARY'])"
      ]
    },
    {
      "cell_type": "code",
      "execution_count": 34,
      "metadata": {
        "colab": {
          "base_uri": "https://localhost:8080/"
        },
        "id": "qDYwhglOb0Kn",
        "outputId": "87cb10ad-cc7e-4e38-80a6-c9baa9ef3384"
      },
      "outputs": [
        {
          "output_type": "execute_result",
          "data": {
            "text/plain": [
              "Index(['First Name', 'Last name', 'Date of Birth', 'STREET Address1',\n",
              "       'STREET Address2', 'STREET Address3', 'Email Address'],\n",
              "      dtype='object')"
            ]
          },
          "metadata": {},
          "execution_count": 34
        }
      ],
      "source": [
        "# Select Column Names Except One Using Negation of isin\n",
        "df.loc[:,~df.columns.isin(['SALARY'])].columns"
      ]
    },
    {
      "cell_type": "code",
      "execution_count": 35,
      "metadata": {
        "colab": {
          "base_uri": "https://localhost:8080/"
        },
        "id": "AJwYzi2Db0Ko",
        "outputId": "0274b735-deb7-4472-e7d6-fd3e85bb468d"
      },
      "outputs": [
        {
          "output_type": "execute_result",
          "data": {
            "text/plain": [
              "Index(['STREET Address1', 'STREET Address2', 'STREET Address3'], dtype='object')"
            ]
          },
          "metadata": {},
          "execution_count": 35
        }
      ],
      "source": [
        "### Select Column Names that Begins with a Word or Character\n",
        "df.filter(like='STREET').columns"
      ]
    },
    {
      "cell_type": "code",
      "execution_count": 36,
      "metadata": {
        "colab": {
          "base_uri": "https://localhost:8080/"
        },
        "id": "JgBQSpTfb0Kp",
        "outputId": "6a3f2d67-3c37-4f83-cb9c-98b73c279a4a"
      },
      "outputs": [
        {
          "output_type": "execute_result",
          "data": {
            "text/plain": [
              "Index(['STREET Address1', 'STREET Address2', 'STREET Address3'], dtype='object')"
            ]
          },
          "metadata": {},
          "execution_count": 36
        }
      ],
      "source": [
        "### Select Column Names that Begins with a Word or Character\n",
        "df.loc[:,df.columns.str.startswith('STREET')].columns"
      ]
    },
    {
      "cell_type": "code",
      "execution_count": 37,
      "metadata": {
        "colab": {
          "base_uri": "https://localhost:8080/"
        },
        "id": "Wpq5fFcEb0Ks",
        "outputId": "87297323-ebaf-4d7b-c038-731e8cc6b874"
      },
      "outputs": [
        {
          "output_type": "execute_result",
          "data": {
            "text/plain": [
              "Index(['First Name', 'Last name'], dtype='object')"
            ]
          },
          "metadata": {},
          "execution_count": 37
        }
      ],
      "source": [
        "### Select Column Names that ENDS with a Word or Character\n",
        "df.loc[:,df.columns.str.endswith('ame')].columns"
      ]
    },
    {
      "cell_type": "code",
      "execution_count": 38,
      "metadata": {
        "colab": {
          "base_uri": "https://localhost:8080/"
        },
        "id": "HauRiCEqb0Kt",
        "outputId": "8343c05f-7353-4d76-8930-67ffc19d7087"
      },
      "outputs": [
        {
          "output_type": "execute_result",
          "data": {
            "text/plain": [
              "Index(['First Name', 'Last name'], dtype='object')"
            ]
          },
          "metadata": {},
          "execution_count": 38
        }
      ],
      "source": [
        "### Select Column Names that ENDS with a Word or Character Using Filter and Regex name$\n",
        "df.filter(regex='ame$',axis=1).columns"
      ]
    },
    {
      "cell_type": "code",
      "execution_count": 39,
      "metadata": {
        "colab": {
          "base_uri": "https://localhost:8080/"
        },
        "id": "gSyB-aoXb0Ku",
        "outputId": "4837b1f9-4ec8-42c0-e9d1-7748748c4bda"
      },
      "outputs": [
        {
          "output_type": "execute_result",
          "data": {
            "text/plain": [
              "array(['First Name', 'Last name', 'Date of Birth', 'SALARY'], dtype=object)"
            ]
          },
          "metadata": {},
          "execution_count": 39
        }
      ],
      "source": [
        "### Select A Group of Column Names\n",
        "df.columns.values[0:4]"
      ]
    },
    {
      "cell_type": "code",
      "execution_count": 40,
      "metadata": {
        "colab": {
          "base_uri": "https://localhost:8080/"
        },
        "id": "UlCxIAN1b0Kv",
        "outputId": "c931fb20-f19b-4b3f-aa9e-6ed48103ed7d"
      },
      "outputs": [
        {
          "output_type": "execute_result",
          "data": {
            "text/plain": [
              "Index(['First Name', 'Last name', 'Date of Birth', 'SALARY'], dtype='object')"
            ]
          },
          "metadata": {},
          "execution_count": 40
        }
      ],
      "source": [
        "### Select A Group of Column Names\n",
        "df.columns[0:4]"
      ]
    },
    {
      "cell_type": "code",
      "execution_count": null,
      "metadata": {
        "id": "fjhY56wub0Kx"
      },
      "outputs": [],
      "source": []
    }
  ],
  "metadata": {
    "kernelspec": {
      "display_name": "Python 3",
      "language": "python",
      "name": "python3"
    },
    "language_info": {
      "codemirror_mode": {
        "name": "ipython",
        "version": 3
      },
      "file_extension": ".py",
      "mimetype": "text/x-python",
      "name": "python",
      "nbconvert_exporter": "python",
      "pygments_lexer": "ipython3",
      "version": "3.6.8"
    },
    "colab": {
      "provenance": []
    }
  },
  "nbformat": 4,
  "nbformat_minor": 0
}